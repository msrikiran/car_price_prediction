{
 "cells": [
  {
   "cell_type": "markdown",
   "metadata": {},
   "source": [
    "# Challenge\n",
    "\n",
    "## Registration\n",
    "\n",
    "# Open for registration.\n",
    "\n",
    "**Hackathon Starts**\n",
    "\n",
    "Datasets will be made live on 02nd July, at 12:00 PM IST\n",
    "\n",
    "**About Data**\n",
    "\n",
    "With the rise in the variety of cars with differentiated capabilities and features such as model, production year, category, brand, fuel type, engine volume, mileage, cylinders, colour, airbags and many more, we are bringing a car price prediction challenge for all. We all aspire to own a car within budget with the best features available. To solve the price problem we have created a dataset of 19237 for the training dataset and 8245 for the test dataset.\n",
    "\n",
    "**Dataset Description**\n",
    "\n",
    "Train.csv - 19237 rows x 18 columns (Includes Price Columns as Target)\n",
    "\n",
    "**Attributes**\n",
    "ID\n",
    "\n",
    "Price: price of the care(Target Column)\n",
    "\n",
    "Levy\n",
    "\n",
    "Manufacturer\n",
    "\n",
    "Model\n",
    "\n",
    "Prod. year\n",
    "\n",
    "Category\n",
    "\n",
    "Leather interior\n",
    "\n",
    "Fuel type\n",
    "\n",
    "Engine volume\n",
    "\n",
    "Mileage\n",
    "\n",
    "Cylinders\n",
    "\n",
    "Gear box type\n",
    "\n",
    "Drive wheels\n",
    "\n",
    "Doors\n",
    "\n",
    "Wheel\n",
    "\n",
    "Color\n",
    "\n",
    "Airbags\n",
    "\n",
    "Test.csv - 8245 rows x 17 columns\n",
    "\n",
    "Sample Submission.csv -Please check the Evaluation section for more details on how to generate a valid submission\n",
    "\n",
    "**Skills**\n",
    "\n",
    "Multivariate Regression\n",
    "\n",
    "Big dataset, underfitting vs overfitting\n",
    "\n",
    "Optimizing RMSLE to generalize well on unseen data"
   ]
  },
  {
   "cell_type": "markdown",
   "metadata": {},
   "source": [
    "**The submission done by using the RMSLE**"
   ]
  },
  {
   "cell_type": "code",
   "execution_count": 1,
   "metadata": {},
   "outputs": [],
   "source": [
    "import numpy as np\n",
    "import pandas as pd\n",
    "import matplotlib.pyplot as plt\n",
    "%matplotlib inline\n",
    "import seaborn as sns"
   ]
  },
  {
   "cell_type": "code",
   "execution_count": 2,
   "metadata": {},
   "outputs": [],
   "source": [
    "train=pd.read_csv('train.csv')\n",
    "test=pd.read_csv('test.csv')\n"
   ]
  },
  {
   "cell_type": "code",
   "execution_count": 3,
   "metadata": {},
   "outputs": [
    {
     "data": {
      "text/html": [
       "<div>\n",
       "<style scoped>\n",
       "    .dataframe tbody tr th:only-of-type {\n",
       "        vertical-align: middle;\n",
       "    }\n",
       "\n",
       "    .dataframe tbody tr th {\n",
       "        vertical-align: top;\n",
       "    }\n",
       "\n",
       "    .dataframe thead th {\n",
       "        text-align: right;\n",
       "    }\n",
       "</style>\n",
       "<table border=\"1\" class=\"dataframe\">\n",
       "  <thead>\n",
       "    <tr style=\"text-align: right;\">\n",
       "      <th></th>\n",
       "      <th>ID</th>\n",
       "      <th>Price</th>\n",
       "      <th>Levy</th>\n",
       "      <th>Manufacturer</th>\n",
       "      <th>Model</th>\n",
       "      <th>Prod. year</th>\n",
       "      <th>Category</th>\n",
       "      <th>Leather interior</th>\n",
       "      <th>Fuel type</th>\n",
       "      <th>Engine volume</th>\n",
       "      <th>Mileage</th>\n",
       "      <th>Cylinders</th>\n",
       "      <th>Gear box type</th>\n",
       "      <th>Drive wheels</th>\n",
       "      <th>Doors</th>\n",
       "      <th>Wheel</th>\n",
       "      <th>Color</th>\n",
       "      <th>Airbags</th>\n",
       "    </tr>\n",
       "  </thead>\n",
       "  <tbody>\n",
       "    <tr>\n",
       "      <th>0</th>\n",
       "      <td>45654403</td>\n",
       "      <td>13328</td>\n",
       "      <td>1399</td>\n",
       "      <td>LEXUS</td>\n",
       "      <td>RX 450</td>\n",
       "      <td>2010</td>\n",
       "      <td>Jeep</td>\n",
       "      <td>Yes</td>\n",
       "      <td>Hybrid</td>\n",
       "      <td>3.5</td>\n",
       "      <td>186005 km</td>\n",
       "      <td>6.0</td>\n",
       "      <td>Automatic</td>\n",
       "      <td>4x4</td>\n",
       "      <td>04-May</td>\n",
       "      <td>Left wheel</td>\n",
       "      <td>Silver</td>\n",
       "      <td>12</td>\n",
       "    </tr>\n",
       "    <tr>\n",
       "      <th>1</th>\n",
       "      <td>44731507</td>\n",
       "      <td>16621</td>\n",
       "      <td>1018</td>\n",
       "      <td>CHEVROLET</td>\n",
       "      <td>Equinox</td>\n",
       "      <td>2011</td>\n",
       "      <td>Jeep</td>\n",
       "      <td>No</td>\n",
       "      <td>Petrol</td>\n",
       "      <td>3</td>\n",
       "      <td>192000 km</td>\n",
       "      <td>6.0</td>\n",
       "      <td>Tiptronic</td>\n",
       "      <td>4x4</td>\n",
       "      <td>04-May</td>\n",
       "      <td>Left wheel</td>\n",
       "      <td>Black</td>\n",
       "      <td>8</td>\n",
       "    </tr>\n",
       "    <tr>\n",
       "      <th>2</th>\n",
       "      <td>45774419</td>\n",
       "      <td>8467</td>\n",
       "      <td>-</td>\n",
       "      <td>HONDA</td>\n",
       "      <td>FIT</td>\n",
       "      <td>2006</td>\n",
       "      <td>Hatchback</td>\n",
       "      <td>No</td>\n",
       "      <td>Petrol</td>\n",
       "      <td>1.3</td>\n",
       "      <td>200000 km</td>\n",
       "      <td>4.0</td>\n",
       "      <td>Variator</td>\n",
       "      <td>Front</td>\n",
       "      <td>04-May</td>\n",
       "      <td>Right-hand drive</td>\n",
       "      <td>Black</td>\n",
       "      <td>2</td>\n",
       "    </tr>\n",
       "    <tr>\n",
       "      <th>3</th>\n",
       "      <td>45769185</td>\n",
       "      <td>3607</td>\n",
       "      <td>862</td>\n",
       "      <td>FORD</td>\n",
       "      <td>Escape</td>\n",
       "      <td>2011</td>\n",
       "      <td>Jeep</td>\n",
       "      <td>Yes</td>\n",
       "      <td>Hybrid</td>\n",
       "      <td>2.5</td>\n",
       "      <td>168966 km</td>\n",
       "      <td>4.0</td>\n",
       "      <td>Automatic</td>\n",
       "      <td>4x4</td>\n",
       "      <td>04-May</td>\n",
       "      <td>Left wheel</td>\n",
       "      <td>White</td>\n",
       "      <td>0</td>\n",
       "    </tr>\n",
       "    <tr>\n",
       "      <th>4</th>\n",
       "      <td>45809263</td>\n",
       "      <td>11726</td>\n",
       "      <td>446</td>\n",
       "      <td>HONDA</td>\n",
       "      <td>FIT</td>\n",
       "      <td>2014</td>\n",
       "      <td>Hatchback</td>\n",
       "      <td>Yes</td>\n",
       "      <td>Petrol</td>\n",
       "      <td>1.3</td>\n",
       "      <td>91901 km</td>\n",
       "      <td>4.0</td>\n",
       "      <td>Automatic</td>\n",
       "      <td>Front</td>\n",
       "      <td>04-May</td>\n",
       "      <td>Left wheel</td>\n",
       "      <td>Silver</td>\n",
       "      <td>4</td>\n",
       "    </tr>\n",
       "  </tbody>\n",
       "</table>\n",
       "</div>"
      ],
      "text/plain": [
       "         ID  Price  Levy Manufacturer    Model  Prod. year   Category  \\\n",
       "0  45654403  13328  1399        LEXUS   RX 450        2010       Jeep   \n",
       "1  44731507  16621  1018    CHEVROLET  Equinox        2011       Jeep   \n",
       "2  45774419   8467     -        HONDA      FIT        2006  Hatchback   \n",
       "3  45769185   3607   862         FORD   Escape        2011       Jeep   \n",
       "4  45809263  11726   446        HONDA      FIT        2014  Hatchback   \n",
       "\n",
       "  Leather interior Fuel type Engine volume    Mileage  Cylinders  \\\n",
       "0              Yes    Hybrid           3.5  186005 km        6.0   \n",
       "1               No    Petrol             3  192000 km        6.0   \n",
       "2               No    Petrol           1.3  200000 km        4.0   \n",
       "3              Yes    Hybrid           2.5  168966 km        4.0   \n",
       "4              Yes    Petrol           1.3   91901 km        4.0   \n",
       "\n",
       "  Gear box type Drive wheels   Doors             Wheel   Color  Airbags  \n",
       "0     Automatic          4x4  04-May        Left wheel  Silver       12  \n",
       "1     Tiptronic          4x4  04-May        Left wheel   Black        8  \n",
       "2      Variator        Front  04-May  Right-hand drive   Black        2  \n",
       "3     Automatic          4x4  04-May        Left wheel   White        0  \n",
       "4     Automatic        Front  04-May        Left wheel  Silver        4  "
      ]
     },
     "execution_count": 3,
     "metadata": {},
     "output_type": "execute_result"
    }
   ],
   "source": [
    "train.head()"
   ]
  },
  {
   "cell_type": "code",
   "execution_count": 4,
   "metadata": {},
   "outputs": [
    {
     "data": {
      "text/html": [
       "<div>\n",
       "<style scoped>\n",
       "    .dataframe tbody tr th:only-of-type {\n",
       "        vertical-align: middle;\n",
       "    }\n",
       "\n",
       "    .dataframe tbody tr th {\n",
       "        vertical-align: top;\n",
       "    }\n",
       "\n",
       "    .dataframe thead th {\n",
       "        text-align: right;\n",
       "    }\n",
       "</style>\n",
       "<table border=\"1\" class=\"dataframe\">\n",
       "  <thead>\n",
       "    <tr style=\"text-align: right;\">\n",
       "      <th></th>\n",
       "      <th>ID</th>\n",
       "      <th>Levy</th>\n",
       "      <th>Manufacturer</th>\n",
       "      <th>Model</th>\n",
       "      <th>Prod. year</th>\n",
       "      <th>Category</th>\n",
       "      <th>Leather interior</th>\n",
       "      <th>Fuel type</th>\n",
       "      <th>Engine volume</th>\n",
       "      <th>Mileage</th>\n",
       "      <th>Cylinders</th>\n",
       "      <th>Gear box type</th>\n",
       "      <th>Drive wheels</th>\n",
       "      <th>Doors</th>\n",
       "      <th>Wheel</th>\n",
       "      <th>Color</th>\n",
       "      <th>Airbags</th>\n",
       "      <th>Price</th>\n",
       "    </tr>\n",
       "  </thead>\n",
       "  <tbody>\n",
       "    <tr>\n",
       "      <th>0</th>\n",
       "      <td>44020629</td>\n",
       "      <td>-</td>\n",
       "      <td>VOLKSWAGEN</td>\n",
       "      <td>Golf</td>\n",
       "      <td>2012</td>\n",
       "      <td>Hatchback</td>\n",
       "      <td>No</td>\n",
       "      <td>Diesel</td>\n",
       "      <td>2.0 Turbo</td>\n",
       "      <td>0 km</td>\n",
       "      <td>4</td>\n",
       "      <td>Manual</td>\n",
       "      <td>Front</td>\n",
       "      <td>02-Mar</td>\n",
       "      <td>Left wheel</td>\n",
       "      <td>Grey</td>\n",
       "      <td>10</td>\n",
       "      <td>NaN</td>\n",
       "    </tr>\n",
       "    <tr>\n",
       "      <th>1</th>\n",
       "      <td>45784798</td>\n",
       "      <td>-</td>\n",
       "      <td>HYUNDAI</td>\n",
       "      <td>Sonata</td>\n",
       "      <td>2012</td>\n",
       "      <td>Sedan</td>\n",
       "      <td>Yes</td>\n",
       "      <td>Petrol</td>\n",
       "      <td>2.4</td>\n",
       "      <td>26000 km</td>\n",
       "      <td>4</td>\n",
       "      <td>Tiptronic</td>\n",
       "      <td>Front</td>\n",
       "      <td>04-May</td>\n",
       "      <td>Left wheel</td>\n",
       "      <td>Grey</td>\n",
       "      <td>10</td>\n",
       "      <td>NaN</td>\n",
       "    </tr>\n",
       "    <tr>\n",
       "      <th>2</th>\n",
       "      <td>45800257</td>\n",
       "      <td>-</td>\n",
       "      <td>NISSAN</td>\n",
       "      <td>Tiida</td>\n",
       "      <td>2005</td>\n",
       "      <td>Sedan</td>\n",
       "      <td>No</td>\n",
       "      <td>Petrol</td>\n",
       "      <td>1.5</td>\n",
       "      <td>168000 km</td>\n",
       "      <td>4</td>\n",
       "      <td>Automatic</td>\n",
       "      <td>Front</td>\n",
       "      <td>04-May</td>\n",
       "      <td>Right-hand drive</td>\n",
       "      <td>Sky blue</td>\n",
       "      <td>8</td>\n",
       "      <td>NaN</td>\n",
       "    </tr>\n",
       "    <tr>\n",
       "      <th>3</th>\n",
       "      <td>45797981</td>\n",
       "      <td>975</td>\n",
       "      <td>VOLVO</td>\n",
       "      <td>XC90</td>\n",
       "      <td>2012</td>\n",
       "      <td>Jeep</td>\n",
       "      <td>Yes</td>\n",
       "      <td>Petrol</td>\n",
       "      <td>3.2</td>\n",
       "      <td>143000 km</td>\n",
       "      <td>6</td>\n",
       "      <td>Automatic</td>\n",
       "      <td>4x4</td>\n",
       "      <td>04-May</td>\n",
       "      <td>Left wheel</td>\n",
       "      <td>Blue</td>\n",
       "      <td>12</td>\n",
       "      <td>NaN</td>\n",
       "    </tr>\n",
       "    <tr>\n",
       "      <th>4</th>\n",
       "      <td>45814303</td>\n",
       "      <td>-</td>\n",
       "      <td>OPEL</td>\n",
       "      <td>Astra</td>\n",
       "      <td>1993</td>\n",
       "      <td>Hatchback</td>\n",
       "      <td>No</td>\n",
       "      <td>Petrol</td>\n",
       "      <td>1.6</td>\n",
       "      <td>200000 km</td>\n",
       "      <td>4</td>\n",
       "      <td>Manual</td>\n",
       "      <td>Front</td>\n",
       "      <td>04-May</td>\n",
       "      <td>Left wheel</td>\n",
       "      <td>Black</td>\n",
       "      <td>0</td>\n",
       "      <td>NaN</td>\n",
       "    </tr>\n",
       "  </tbody>\n",
       "</table>\n",
       "</div>"
      ],
      "text/plain": [
       "         ID Levy Manufacturer   Model  Prod. year   Category Leather interior  \\\n",
       "0  44020629    -   VOLKSWAGEN    Golf        2012  Hatchback               No   \n",
       "1  45784798    -      HYUNDAI  Sonata        2012      Sedan              Yes   \n",
       "2  45800257    -       NISSAN   Tiida        2005      Sedan               No   \n",
       "3  45797981  975        VOLVO    XC90        2012       Jeep              Yes   \n",
       "4  45814303    -         OPEL   Astra        1993  Hatchback               No   \n",
       "\n",
       "  Fuel type Engine volume    Mileage  Cylinders Gear box type Drive wheels  \\\n",
       "0    Diesel     2.0 Turbo       0 km          4        Manual        Front   \n",
       "1    Petrol           2.4   26000 km          4     Tiptronic        Front   \n",
       "2    Petrol           1.5  168000 km          4     Automatic        Front   \n",
       "3    Petrol           3.2  143000 km          6     Automatic          4x4   \n",
       "4    Petrol           1.6  200000 km          4        Manual        Front   \n",
       "\n",
       "    Doors             Wheel     Color  Airbags  Price  \n",
       "0  02-Mar        Left wheel      Grey       10    NaN  \n",
       "1  04-May        Left wheel      Grey       10    NaN  \n",
       "2  04-May  Right-hand drive  Sky blue        8    NaN  \n",
       "3  04-May        Left wheel      Blue       12    NaN  \n",
       "4  04-May        Left wheel     Black        0    NaN  "
      ]
     },
     "execution_count": 4,
     "metadata": {},
     "output_type": "execute_result"
    }
   ],
   "source": [
    "test.head()"
   ]
  },
  {
   "cell_type": "markdown",
   "metadata": {},
   "source": [
    "Lots of variables!!! \n",
    "\n",
    "Need to look into PCA or any other decomposition tasks"
   ]
  },
  {
   "cell_type": "code",
   "execution_count": 5,
   "metadata": {},
   "outputs": [
    {
     "data": {
      "text/plain": [
       "<AxesSubplot:>"
      ]
     },
     "execution_count": 5,
     "metadata": {},
     "output_type": "execute_result"
    },
    {
     "data": {
      "image/png": "[encoded data removed]",
      "text/plain": [
       "<Figure size 1008x720 with 2 Axes>"
      ]
     },
     "metadata": {
      "needs_background": "light"
     },
     "output_type": "display_data"
    }
   ],
   "source": [
    "# Plotting correlation heatmap\n",
    "plt.figure(figsize=(14,10))\n",
    "sns.heatmap(train.corr(),cmap='viridis')"
   ]
  },
  {
   "cell_type": "code",
   "execution_count": 6,
   "metadata": {},
   "outputs": [
    {
     "data": {
      "text/plain": [
       "<AxesSubplot:>"
      ]
     },
     "execution_count": 6,
     "metadata": {},
     "output_type": "execute_result"
    },
    {
     "data": {
      "image/png": "[encoded data removed]",
      "text/plain": [
       "<Figure size 864x720 with 2 Axes>"
      ]
     },
     "metadata": {
      "needs_background": "light"
     },
     "output_type": "display_data"
    }
   ],
   "source": [
    "# Plotting correlation heatmap\n",
    "plt.figure(figsize=(12,10))\n",
    "sns.heatmap(test.corr(),cmap='viridis')"
   ]
  },
  {
   "cell_type": "code",
   "execution_count": 7,
   "metadata": {},
   "outputs": [
    {
     "name": "stdout",
     "output_type": "stream",
     "text": [
      "<class 'pandas.core.frame.DataFrame'>\n",
      "RangeIndex: 19237 entries, 0 to 19236\n",
      "Data columns (total 18 columns):\n",
      " #   Column            Non-Null Count  Dtype  \n",
      "---  ------            --------------  -----  \n",
      " 0   ID                19237 non-null  int64  \n",
      " 1   Price             19237 non-null  int64  \n",
      " 2   Levy              19237 non-null  object \n",
      " 3   Manufacturer      19237 non-null  object \n",
      " 4   Model             19237 non-null  object \n",
      " 5   Prod. year        19237 non-null  int64  \n",
      " 6   Category          19237 non-null  object \n",
      " 7   Leather interior  19237 non-null  object \n",
      " 8   Fuel type         19237 non-null  object \n",
      " 9   Engine volume     19237 non-null  object \n",
      " 10  Mileage           19237 non-null  object \n",
      " 11  Cylinders         19237 non-null  float64\n",
      " 12  Gear box type     19237 non-null  object \n",
      " 13  Drive wheels      19237 non-null  object \n",
      " 14  Doors             19237 non-null  object \n",
      " 15  Wheel             19237 non-null  object \n",
      " 16  Color             19237 non-null  object \n",
      " 17  Airbags           19237 non-null  int64  \n",
      "dtypes: float64(1), int64(4), object(13)\n",
      "memory usage: 2.6+ MB\n"
     ]
    }
   ],
   "source": [
    "train.info()"
   ]
  },
  {
   "cell_type": "code",
   "execution_count": 8,
   "metadata": {},
   "outputs": [
    {
     "name": "stdout",
     "output_type": "stream",
     "text": [
      "<class 'pandas.core.frame.DataFrame'>\n",
      "RangeIndex: 8245 entries, 0 to 8244\n",
      "Data columns (total 18 columns):\n",
      " #   Column            Non-Null Count  Dtype  \n",
      "---  ------            --------------  -----  \n",
      " 0   ID                8245 non-null   int64  \n",
      " 1   Levy              8245 non-null   object \n",
      " 2   Manufacturer      8245 non-null   object \n",
      " 3   Model             8245 non-null   object \n",
      " 4   Prod. year        8245 non-null   int64  \n",
      " 5   Category          8245 non-null   object \n",
      " 6   Leather interior  8245 non-null   object \n",
      " 7   Fuel type         8245 non-null   object \n",
      " 8   Engine volume     8245 non-null   object \n",
      " 9   Mileage           8245 non-null   object \n",
      " 10  Cylinders         8245 non-null   int64  \n",
      " 11  Gear box type     8245 non-null   object \n",
      " 12  Drive wheels      8245 non-null   object \n",
      " 13  Doors             8245 non-null   object \n",
      " 14  Wheel             8245 non-null   object \n",
      " 15  Color             8245 non-null   object \n",
      " 16  Airbags           8245 non-null   int64  \n",
      " 17  Price             0 non-null      float64\n",
      "dtypes: float64(1), int64(4), object(13)\n",
      "memory usage: 1.1+ MB\n"
     ]
    }
   ],
   "source": [
    "test.info()"
   ]
  },
  {
   "cell_type": "code",
   "execution_count": 9,
   "metadata": {},
   "outputs": [
    {
     "data": {
      "text/html": [
       "<div>\n",
       "<style scoped>\n",
       "    .dataframe tbody tr th:only-of-type {\n",
       "        vertical-align: middle;\n",
       "    }\n",
       "\n",
       "    .dataframe tbody tr th {\n",
       "        vertical-align: top;\n",
       "    }\n",
       "\n",
       "    .dataframe thead th {\n",
       "        text-align: right;\n",
       "    }\n",
       "</style>\n",
       "<table border=\"1\" class=\"dataframe\">\n",
       "  <thead>\n",
       "    <tr style=\"text-align: right;\">\n",
       "      <th></th>\n",
       "      <th>count</th>\n",
       "      <th>unique</th>\n",
       "      <th>top</th>\n",
       "      <th>freq</th>\n",
       "      <th>mean</th>\n",
       "      <th>std</th>\n",
       "      <th>min</th>\n",
       "      <th>25%</th>\n",
       "      <th>50%</th>\n",
       "      <th>75%</th>\n",
       "      <th>max</th>\n",
       "    </tr>\n",
       "  </thead>\n",
       "  <tbody>\n",
       "    <tr>\n",
       "      <th>ID</th>\n",
       "      <td>19237.0</td>\n",
       "      <td>NaN</td>\n",
       "      <td>NaN</td>\n",
       "      <td>NaN</td>\n",
       "      <td>45576535.886105</td>\n",
       "      <td>936591.422799</td>\n",
       "      <td>20746880.0</td>\n",
       "      <td>45698374.0</td>\n",
       "      <td>45772308.0</td>\n",
       "      <td>45802036.0</td>\n",
       "      <td>45816654.0</td>\n",
       "    </tr>\n",
       "    <tr>\n",
       "      <th>Price</th>\n",
       "      <td>19237.0</td>\n",
       "      <td>NaN</td>\n",
       "      <td>NaN</td>\n",
       "      <td>NaN</td>\n",
       "      <td>18555.927224</td>\n",
       "      <td>190581.269684</td>\n",
       "      <td>1.0</td>\n",
       "      <td>5331.0</td>\n",
       "      <td>13172.0</td>\n",
       "      <td>22075.0</td>\n",
       "      <td>26307500.0</td>\n",
       "    </tr>\n",
       "    <tr>\n",
       "      <th>Levy</th>\n",
       "      <td>19237</td>\n",
       "      <td>559</td>\n",
       "      <td>-</td>\n",
       "      <td>5819</td>\n",
       "      <td>NaN</td>\n",
       "      <td>NaN</td>\n",
       "      <td>NaN</td>\n",
       "      <td>NaN</td>\n",
       "      <td>NaN</td>\n",
       "      <td>NaN</td>\n",
       "      <td>NaN</td>\n",
       "    </tr>\n",
       "    <tr>\n",
       "      <th>Manufacturer</th>\n",
       "      <td>19237</td>\n",
       "      <td>65</td>\n",
       "      <td>HYUNDAI</td>\n",
       "      <td>3769</td>\n",
       "      <td>NaN</td>\n",
       "      <td>NaN</td>\n",
       "      <td>NaN</td>\n",
       "      <td>NaN</td>\n",
       "      <td>NaN</td>\n",
       "      <td>NaN</td>\n",
       "      <td>NaN</td>\n",
       "    </tr>\n",
       "    <tr>\n",
       "      <th>Model</th>\n",
       "      <td>19237</td>\n",
       "      <td>1590</td>\n",
       "      <td>Prius</td>\n",
       "      <td>1083</td>\n",
       "      <td>NaN</td>\n",
       "      <td>NaN</td>\n",
       "      <td>NaN</td>\n",
       "      <td>NaN</td>\n",
       "      <td>NaN</td>\n",
       "      <td>NaN</td>\n",
       "      <td>NaN</td>\n",
       "    </tr>\n",
       "    <tr>\n",
       "      <th>Prod. year</th>\n",
       "      <td>19237.0</td>\n",
       "      <td>NaN</td>\n",
       "      <td>NaN</td>\n",
       "      <td>NaN</td>\n",
       "      <td>2010.912824</td>\n",
       "      <td>5.668673</td>\n",
       "      <td>1939.0</td>\n",
       "      <td>2009.0</td>\n",
       "      <td>2012.0</td>\n",
       "      <td>2015.0</td>\n",
       "      <td>2020.0</td>\n",
       "    </tr>\n",
       "    <tr>\n",
       "      <th>Category</th>\n",
       "      <td>19237</td>\n",
       "      <td>11</td>\n",
       "      <td>Sedan</td>\n",
       "      <td>8736</td>\n",
       "      <td>NaN</td>\n",
       "      <td>NaN</td>\n",
       "      <td>NaN</td>\n",
       "      <td>NaN</td>\n",
       "      <td>NaN</td>\n",
       "      <td>NaN</td>\n",
       "      <td>NaN</td>\n",
       "    </tr>\n",
       "    <tr>\n",
       "      <th>Leather interior</th>\n",
       "      <td>19237</td>\n",
       "      <td>2</td>\n",
       "      <td>Yes</td>\n",
       "      <td>13954</td>\n",
       "      <td>NaN</td>\n",
       "      <td>NaN</td>\n",
       "      <td>NaN</td>\n",
       "      <td>NaN</td>\n",
       "      <td>NaN</td>\n",
       "      <td>NaN</td>\n",
       "      <td>NaN</td>\n",
       "    </tr>\n",
       "    <tr>\n",
       "      <th>Fuel type</th>\n",
       "      <td>19237</td>\n",
       "      <td>7</td>\n",
       "      <td>Petrol</td>\n",
       "      <td>10150</td>\n",
       "      <td>NaN</td>\n",
       "      <td>NaN</td>\n",
       "      <td>NaN</td>\n",
       "      <td>NaN</td>\n",
       "      <td>NaN</td>\n",
       "      <td>NaN</td>\n",
       "      <td>NaN</td>\n",
       "    </tr>\n",
       "    <tr>\n",
       "      <th>Engine volume</th>\n",
       "      <td>19237</td>\n",
       "      <td>107</td>\n",
       "      <td>2</td>\n",
       "      <td>3916</td>\n",
       "      <td>NaN</td>\n",
       "      <td>NaN</td>\n",
       "      <td>NaN</td>\n",
       "      <td>NaN</td>\n",
       "      <td>NaN</td>\n",
       "      <td>NaN</td>\n",
       "      <td>NaN</td>\n",
       "    </tr>\n",
       "    <tr>\n",
       "      <th>Mileage</th>\n",
       "      <td>19237</td>\n",
       "      <td>7687</td>\n",
       "      <td>0 km</td>\n",
       "      <td>721</td>\n",
       "      <td>NaN</td>\n",
       "      <td>NaN</td>\n",
       "      <td>NaN</td>\n",
       "      <td>NaN</td>\n",
       "      <td>NaN</td>\n",
       "      <td>NaN</td>\n",
       "      <td>NaN</td>\n",
       "    </tr>\n",
       "    <tr>\n",
       "      <th>Cylinders</th>\n",
       "      <td>19237.0</td>\n",
       "      <td>NaN</td>\n",
       "      <td>NaN</td>\n",
       "      <td>NaN</td>\n",
       "      <td>4.582991</td>\n",
       "      <td>1.199933</td>\n",
       "      <td>1.0</td>\n",
       "      <td>4.0</td>\n",
       "      <td>4.0</td>\n",
       "      <td>4.0</td>\n",
       "      <td>16.0</td>\n",
       "    </tr>\n",
       "    <tr>\n",
       "      <th>Gear box type</th>\n",
       "      <td>19237</td>\n",
       "      <td>4</td>\n",
       "      <td>Automatic</td>\n",
       "      <td>13514</td>\n",
       "      <td>NaN</td>\n",
       "      <td>NaN</td>\n",
       "      <td>NaN</td>\n",
       "      <td>NaN</td>\n",
       "      <td>NaN</td>\n",
       "      <td>NaN</td>\n",
       "      <td>NaN</td>\n",
       "    </tr>\n",
       "    <tr>\n",
       "      <th>Drive wheels</th>\n",
       "      <td>19237</td>\n",
       "      <td>3</td>\n",
       "      <td>Front</td>\n",
       "      <td>12874</td>\n",
       "      <td>NaN</td>\n",
       "      <td>NaN</td>\n",
       "      <td>NaN</td>\n",
       "      <td>NaN</td>\n",
       "      <td>NaN</td>\n",
       "      <td>NaN</td>\n",
       "      <td>NaN</td>\n",
       "    </tr>\n",
       "    <tr>\n",
       "      <th>Doors</th>\n",
       "      <td>19237</td>\n",
       "      <td>3</td>\n",
       "      <td>04-May</td>\n",
       "      <td>18332</td>\n",
       "      <td>NaN</td>\n",
       "      <td>NaN</td>\n",
       "      <td>NaN</td>\n",
       "      <td>NaN</td>\n",
       "      <td>NaN</td>\n",
       "      <td>NaN</td>\n",
       "      <td>NaN</td>\n",
       "    </tr>\n",
       "    <tr>\n",
       "      <th>Wheel</th>\n",
       "      <td>19237</td>\n",
       "      <td>2</td>\n",
       "      <td>Left wheel</td>\n",
       "      <td>17753</td>\n",
       "      <td>NaN</td>\n",
       "      <td>NaN</td>\n",
       "      <td>NaN</td>\n",
       "      <td>NaN</td>\n",
       "      <td>NaN</td>\n",
       "      <td>NaN</td>\n",
       "      <td>NaN</td>\n",
       "    </tr>\n",
       "    <tr>\n",
       "      <th>Color</th>\n",
       "      <td>19237</td>\n",
       "      <td>16</td>\n",
       "      <td>Black</td>\n",
       "      <td>5033</td>\n",
       "      <td>NaN</td>\n",
       "      <td>NaN</td>\n",
       "      <td>NaN</td>\n",
       "      <td>NaN</td>\n",
       "      <td>NaN</td>\n",
       "      <td>NaN</td>\n",
       "      <td>NaN</td>\n",
       "    </tr>\n",
       "    <tr>\n",
       "      <th>Airbags</th>\n",
       "      <td>19237.0</td>\n",
       "      <td>NaN</td>\n",
       "      <td>NaN</td>\n",
       "      <td>NaN</td>\n",
       "      <td>6.582627</td>\n",
       "      <td>4.320168</td>\n",
       "      <td>0.0</td>\n",
       "      <td>4.0</td>\n",
       "      <td>6.0</td>\n",
       "      <td>12.0</td>\n",
       "      <td>16.0</td>\n",
       "    </tr>\n",
       "  </tbody>\n",
       "</table>\n",
       "</div>"
      ],
      "text/plain": [
       "                    count unique         top   freq             mean  \\\n",
       "ID                19237.0    NaN         NaN    NaN  45576535.886105   \n",
       "Price             19237.0    NaN         NaN    NaN     18555.927224   \n",
       "Levy                19237    559           -   5819              NaN   \n",
       "Manufacturer        19237     65     HYUNDAI   3769              NaN   \n",
       "Model               19237   1590       Prius   1083              NaN   \n",
       "Prod. year        19237.0    NaN         NaN    NaN      2010.912824   \n",
       "Category            19237     11       Sedan   8736              NaN   \n",
       "Leather interior    19237      2         Yes  13954              NaN   \n",
       "Fuel type           19237      7      Petrol  10150              NaN   \n",
       "Engine volume       19237    107           2   3916              NaN   \n",
       "Mileage             19237   7687        0 km    721              NaN   \n",
       "Cylinders         19237.0    NaN         NaN    NaN         4.582991   \n",
       "Gear box type       19237      4   Automatic  13514              NaN   \n",
       "Drive wheels        19237      3       Front  12874              NaN   \n",
       "Doors               19237      3      04-May  18332              NaN   \n",
       "Wheel               19237      2  Left wheel  17753              NaN   \n",
       "Color               19237     16       Black   5033              NaN   \n",
       "Airbags           19237.0    NaN         NaN    NaN         6.582627   \n",
       "\n",
       "                            std         min         25%         50%  \\\n",
       "ID                936591.422799  20746880.0  45698374.0  45772308.0   \n",
       "Price             190581.269684         1.0      5331.0     13172.0   \n",
       "Levy                        NaN         NaN         NaN         NaN   \n",
       "Manufacturer                NaN         NaN         NaN         NaN   \n",
       "Model                       NaN         NaN         NaN         NaN   \n",
       "Prod. year             5.668673      1939.0      2009.0      2012.0   \n",
       "Category                    NaN         NaN         NaN         NaN   \n",
       "Leather interior            NaN         NaN         NaN         NaN   \n",
       "Fuel type                   NaN         NaN         NaN         NaN   \n",
       "Engine volume               NaN         NaN         NaN         NaN   \n",
       "Mileage                     NaN         NaN         NaN         NaN   \n",
       "Cylinders              1.199933         1.0         4.0         4.0   \n",
       "Gear box type               NaN         NaN         NaN         NaN   \n",
       "Drive wheels                NaN         NaN         NaN         NaN   \n",
       "Doors                       NaN         NaN         NaN         NaN   \n",
       "Wheel                       NaN         NaN         NaN         NaN   \n",
       "Color                       NaN         NaN         NaN         NaN   \n",
       "Airbags                4.320168         0.0         4.0         6.0   \n",
       "\n",
       "                         75%         max  \n",
       "ID                45802036.0  45816654.0  \n",
       "Price                22075.0  26307500.0  \n",
       "Levy                     NaN         NaN  \n",
       "Manufacturer             NaN         NaN  \n",
       "Model                    NaN         NaN  \n",
       "Prod. year            2015.0      2020.0  \n",
       "Category                 NaN         NaN  \n",
       "Leather interior         NaN         NaN  \n",
       "Fuel type                NaN         NaN  \n",
       "Engine volume            NaN         NaN  \n",
       "Mileage                  NaN         NaN  \n",
       "Cylinders                4.0        16.0  \n",
       "Gear box type            NaN         NaN  \n",
       "Drive wheels             NaN         NaN  \n",
       "Doors                    NaN         NaN  \n",
       "Wheel                    NaN         NaN  \n",
       "Color                    NaN         NaN  \n",
       "Airbags                 12.0        16.0  "
      ]
     },
     "execution_count": 9,
     "metadata": {},
     "output_type": "execute_result"
    }
   ],
   "source": [
    "train.describe(include='all').T"
   ]
  },
  {
   "cell_type": "code",
   "execution_count": 10,
   "metadata": {},
   "outputs": [
    {
     "data": {
      "text/html": [
       "<div>\n",
       "<style scoped>\n",
       "    .dataframe tbody tr th:only-of-type {\n",
       "        vertical-align: middle;\n",
       "    }\n",
       "\n",
       "    .dataframe tbody tr th {\n",
       "        vertical-align: top;\n",
       "    }\n",
       "\n",
       "    .dataframe thead th {\n",
       "        text-align: right;\n",
       "    }\n",
       "</style>\n",
       "<table border=\"1\" class=\"dataframe\">\n",
       "  <thead>\n",
       "    <tr style=\"text-align: right;\">\n",
       "      <th></th>\n",
       "      <th>count</th>\n",
       "      <th>unique</th>\n",
       "      <th>top</th>\n",
       "      <th>freq</th>\n",
       "      <th>mean</th>\n",
       "      <th>std</th>\n",
       "      <th>min</th>\n",
       "      <th>25%</th>\n",
       "      <th>50%</th>\n",
       "      <th>75%</th>\n",
       "      <th>max</th>\n",
       "    </tr>\n",
       "  </thead>\n",
       "  <tbody>\n",
       "    <tr>\n",
       "      <th>ID</th>\n",
       "      <td>8245.0</td>\n",
       "      <td>NaN</td>\n",
       "      <td>NaN</td>\n",
       "      <td>NaN</td>\n",
       "      <td>45583310.028745</td>\n",
       "      <td>895682.292049</td>\n",
       "      <td>21265215.0</td>\n",
       "      <td>45696475.0</td>\n",
       "      <td>45771629.0</td>\n",
       "      <td>45801801.0</td>\n",
       "      <td>45816644.0</td>\n",
       "    </tr>\n",
       "    <tr>\n",
       "      <th>Levy</th>\n",
       "      <td>8245</td>\n",
       "      <td>434</td>\n",
       "      <td>-</td>\n",
       "      <td>2454</td>\n",
       "      <td>NaN</td>\n",
       "      <td>NaN</td>\n",
       "      <td>NaN</td>\n",
       "      <td>NaN</td>\n",
       "      <td>NaN</td>\n",
       "      <td>NaN</td>\n",
       "      <td>NaN</td>\n",
       "    </tr>\n",
       "    <tr>\n",
       "      <th>Manufacturer</th>\n",
       "      <td>8245</td>\n",
       "      <td>62</td>\n",
       "      <td>HYUNDAI</td>\n",
       "      <td>1589</td>\n",
       "      <td>NaN</td>\n",
       "      <td>NaN</td>\n",
       "      <td>NaN</td>\n",
       "      <td>NaN</td>\n",
       "      <td>NaN</td>\n",
       "      <td>NaN</td>\n",
       "      <td>NaN</td>\n",
       "    </tr>\n",
       "    <tr>\n",
       "      <th>Model</th>\n",
       "      <td>8245</td>\n",
       "      <td>995</td>\n",
       "      <td>Sonata</td>\n",
       "      <td>478</td>\n",
       "      <td>NaN</td>\n",
       "      <td>NaN</td>\n",
       "      <td>NaN</td>\n",
       "      <td>NaN</td>\n",
       "      <td>NaN</td>\n",
       "      <td>NaN</td>\n",
       "      <td>NaN</td>\n",
       "    </tr>\n",
       "    <tr>\n",
       "      <th>Prod. year</th>\n",
       "      <td>8245.0</td>\n",
       "      <td>NaN</td>\n",
       "      <td>NaN</td>\n",
       "      <td>NaN</td>\n",
       "      <td>2010.911583</td>\n",
       "      <td>5.548762</td>\n",
       "      <td>1943.0</td>\n",
       "      <td>2009.0</td>\n",
       "      <td>2012.0</td>\n",
       "      <td>2014.0</td>\n",
       "      <td>2020.0</td>\n",
       "    </tr>\n",
       "    <tr>\n",
       "      <th>Category</th>\n",
       "      <td>8245</td>\n",
       "      <td>11</td>\n",
       "      <td>Sedan</td>\n",
       "      <td>3798</td>\n",
       "      <td>NaN</td>\n",
       "      <td>NaN</td>\n",
       "      <td>NaN</td>\n",
       "      <td>NaN</td>\n",
       "      <td>NaN</td>\n",
       "      <td>NaN</td>\n",
       "      <td>NaN</td>\n",
       "    </tr>\n",
       "    <tr>\n",
       "      <th>Leather interior</th>\n",
       "      <td>8245</td>\n",
       "      <td>2</td>\n",
       "      <td>Yes</td>\n",
       "      <td>5972</td>\n",
       "      <td>NaN</td>\n",
       "      <td>NaN</td>\n",
       "      <td>NaN</td>\n",
       "      <td>NaN</td>\n",
       "      <td>NaN</td>\n",
       "      <td>NaN</td>\n",
       "      <td>NaN</td>\n",
       "    </tr>\n",
       "    <tr>\n",
       "      <th>Fuel type</th>\n",
       "      <td>8245</td>\n",
       "      <td>7</td>\n",
       "      <td>Petrol</td>\n",
       "      <td>4342</td>\n",
       "      <td>NaN</td>\n",
       "      <td>NaN</td>\n",
       "      <td>NaN</td>\n",
       "      <td>NaN</td>\n",
       "      <td>NaN</td>\n",
       "      <td>NaN</td>\n",
       "      <td>NaN</td>\n",
       "    </tr>\n",
       "    <tr>\n",
       "      <th>Engine volume</th>\n",
       "      <td>8245</td>\n",
       "      <td>97</td>\n",
       "      <td>2</td>\n",
       "      <td>1671</td>\n",
       "      <td>NaN</td>\n",
       "      <td>NaN</td>\n",
       "      <td>NaN</td>\n",
       "      <td>NaN</td>\n",
       "      <td>NaN</td>\n",
       "      <td>NaN</td>\n",
       "      <td>NaN</td>\n",
       "    </tr>\n",
       "    <tr>\n",
       "      <th>Mileage</th>\n",
       "      <td>8245</td>\n",
       "      <td>3978</td>\n",
       "      <td>0 km</td>\n",
       "      <td>292</td>\n",
       "      <td>NaN</td>\n",
       "      <td>NaN</td>\n",
       "      <td>NaN</td>\n",
       "      <td>NaN</td>\n",
       "      <td>NaN</td>\n",
       "      <td>NaN</td>\n",
       "      <td>NaN</td>\n",
       "    </tr>\n",
       "    <tr>\n",
       "      <th>Cylinders</th>\n",
       "      <td>8245.0</td>\n",
       "      <td>NaN</td>\n",
       "      <td>NaN</td>\n",
       "      <td>NaN</td>\n",
       "      <td>4.618799</td>\n",
       "      <td>1.817581</td>\n",
       "      <td>1.0</td>\n",
       "      <td>4.0</td>\n",
       "      <td>4.0</td>\n",
       "      <td>4.0</td>\n",
       "      <td>127.0</td>\n",
       "    </tr>\n",
       "    <tr>\n",
       "      <th>Gear box type</th>\n",
       "      <td>8245</td>\n",
       "      <td>4</td>\n",
       "      <td>Automatic</td>\n",
       "      <td>5782</td>\n",
       "      <td>NaN</td>\n",
       "      <td>NaN</td>\n",
       "      <td>NaN</td>\n",
       "      <td>NaN</td>\n",
       "      <td>NaN</td>\n",
       "      <td>NaN</td>\n",
       "      <td>NaN</td>\n",
       "    </tr>\n",
       "    <tr>\n",
       "      <th>Drive wheels</th>\n",
       "      <td>8245</td>\n",
       "      <td>3</td>\n",
       "      <td>Front</td>\n",
       "      <td>5500</td>\n",
       "      <td>NaN</td>\n",
       "      <td>NaN</td>\n",
       "      <td>NaN</td>\n",
       "      <td>NaN</td>\n",
       "      <td>NaN</td>\n",
       "      <td>NaN</td>\n",
       "      <td>NaN</td>\n",
       "    </tr>\n",
       "    <tr>\n",
       "      <th>Doors</th>\n",
       "      <td>8245</td>\n",
       "      <td>3</td>\n",
       "      <td>04-May</td>\n",
       "      <td>7841</td>\n",
       "      <td>NaN</td>\n",
       "      <td>NaN</td>\n",
       "      <td>NaN</td>\n",
       "      <td>NaN</td>\n",
       "      <td>NaN</td>\n",
       "      <td>NaN</td>\n",
       "      <td>NaN</td>\n",
       "    </tr>\n",
       "    <tr>\n",
       "      <th>Wheel</th>\n",
       "      <td>8245</td>\n",
       "      <td>2</td>\n",
       "      <td>Left wheel</td>\n",
       "      <td>7631</td>\n",
       "      <td>NaN</td>\n",
       "      <td>NaN</td>\n",
       "      <td>NaN</td>\n",
       "      <td>NaN</td>\n",
       "      <td>NaN</td>\n",
       "      <td>NaN</td>\n",
       "      <td>NaN</td>\n",
       "    </tr>\n",
       "    <tr>\n",
       "      <th>Color</th>\n",
       "      <td>8245</td>\n",
       "      <td>16</td>\n",
       "      <td>Black</td>\n",
       "      <td>2163</td>\n",
       "      <td>NaN</td>\n",
       "      <td>NaN</td>\n",
       "      <td>NaN</td>\n",
       "      <td>NaN</td>\n",
       "      <td>NaN</td>\n",
       "      <td>NaN</td>\n",
       "      <td>NaN</td>\n",
       "    </tr>\n",
       "    <tr>\n",
       "      <th>Airbags</th>\n",
       "      <td>8245.0</td>\n",
       "      <td>NaN</td>\n",
       "      <td>NaN</td>\n",
       "      <td>NaN</td>\n",
       "      <td>6.519102</td>\n",
       "      <td>4.350323</td>\n",
       "      <td>0.0</td>\n",
       "      <td>4.0</td>\n",
       "      <td>6.0</td>\n",
       "      <td>12.0</td>\n",
       "      <td>16.0</td>\n",
       "    </tr>\n",
       "    <tr>\n",
       "      <th>Price</th>\n",
       "      <td>0.0</td>\n",
       "      <td>NaN</td>\n",
       "      <td>NaN</td>\n",
       "      <td>NaN</td>\n",
       "      <td>NaN</td>\n",
       "      <td>NaN</td>\n",
       "      <td>NaN</td>\n",
       "      <td>NaN</td>\n",
       "      <td>NaN</td>\n",
       "      <td>NaN</td>\n",
       "      <td>NaN</td>\n",
       "    </tr>\n",
       "  </tbody>\n",
       "</table>\n",
       "</div>"
      ],
      "text/plain": [
       "                   count unique         top  freq             mean  \\\n",
       "ID                8245.0    NaN         NaN   NaN  45583310.028745   \n",
       "Levy                8245    434           -  2454              NaN   \n",
       "Manufacturer        8245     62     HYUNDAI  1589              NaN   \n",
       "Model               8245    995      Sonata   478              NaN   \n",
       "Prod. year        8245.0    NaN         NaN   NaN      2010.911583   \n",
       "Category            8245     11       Sedan  3798              NaN   \n",
       "Leather interior    8245      2         Yes  5972              NaN   \n",
       "Fuel type           8245      7      Petrol  4342              NaN   \n",
       "Engine volume       8245     97           2  1671              NaN   \n",
       "Mileage             8245   3978        0 km   292              NaN   \n",
       "Cylinders         8245.0    NaN         NaN   NaN         4.618799   \n",
       "Gear box type       8245      4   Automatic  5782              NaN   \n",
       "Drive wheels        8245      3       Front  5500              NaN   \n",
       "Doors               8245      3      04-May  7841              NaN   \n",
       "Wheel               8245      2  Left wheel  7631              NaN   \n",
       "Color               8245     16       Black  2163              NaN   \n",
       "Airbags           8245.0    NaN         NaN   NaN         6.519102   \n",
       "Price                0.0    NaN         NaN   NaN              NaN   \n",
       "\n",
       "                            std         min         25%         50%  \\\n",
       "ID                895682.292049  21265215.0  45696475.0  45771629.0   \n",
       "Levy                        NaN         NaN         NaN         NaN   \n",
       "Manufacturer                NaN         NaN         NaN         NaN   \n",
       "Model                       NaN         NaN         NaN         NaN   \n",
       "Prod. year             5.548762      1943.0      2009.0      2012.0   \n",
       "Category                    NaN         NaN         NaN         NaN   \n",
       "Leather interior            NaN         NaN         NaN         NaN   \n",
       "Fuel type                   NaN         NaN         NaN         NaN   \n",
       "Engine volume               NaN         NaN         NaN         NaN   \n",
       "Mileage                     NaN         NaN         NaN         NaN   \n",
       "Cylinders              1.817581         1.0         4.0         4.0   \n",
       "Gear box type               NaN         NaN         NaN         NaN   \n",
       "Drive wheels                NaN         NaN         NaN         NaN   \n",
       "Doors                       NaN         NaN         NaN         NaN   \n",
       "Wheel                       NaN         NaN         NaN         NaN   \n",
       "Color                       NaN         NaN         NaN         NaN   \n",
       "Airbags                4.350323         0.0         4.0         6.0   \n",
       "Price                       NaN         NaN         NaN         NaN   \n",
       "\n",
       "                         75%         max  \n",
       "ID                45801801.0  45816644.0  \n",
       "Levy                     NaN         NaN  \n",
       "Manufacturer             NaN         NaN  \n",
       "Model                    NaN         NaN  \n",
       "Prod. year            2014.0      2020.0  \n",
       "Category                 NaN         NaN  \n",
       "Leather interior         NaN         NaN  \n",
       "Fuel type                NaN         NaN  \n",
       "Engine volume            NaN         NaN  \n",
       "Mileage                  NaN         NaN  \n",
       "Cylinders                4.0       127.0  \n",
       "Gear box type            NaN         NaN  \n",
       "Drive wheels             NaN         NaN  \n",
       "Doors                    NaN         NaN  \n",
       "Wheel                    NaN         NaN  \n",
       "Color                    NaN         NaN  \n",
       "Airbags                 12.0        16.0  \n",
       "Price                    NaN         NaN  "
      ]
     },
     "execution_count": 10,
     "metadata": {},
     "output_type": "execute_result"
    }
   ],
   "source": [
    "test.describe(include='all').T"
   ]
  },
  {
   "cell_type": "code",
   "execution_count": 11,
   "metadata": {},
   "outputs": [],
   "source": [
    "#PRice and Mileage must be outliers\n",
    "#train[train.Price>627220.0]"
   ]
  },
  {
   "cell_type": "code",
   "execution_count": 12,
   "metadata": {},
   "outputs": [
    {
     "data": {
      "text/plain": [
       "Index(['ID', 'Price', 'Levy', 'Manufacturer', 'Model', 'Prod. year',\n",
       "       'Category', 'Leather interior', 'Fuel type', 'Engine volume', 'Mileage',\n",
       "       'Cylinders', 'Gear box type', 'Drive wheels', 'Doors', 'Wheel', 'Color',\n",
       "       'Airbags'],\n",
       "      dtype='object')"
      ]
     },
     "execution_count": 12,
     "metadata": {},
     "output_type": "execute_result"
    }
   ],
   "source": [
    "train.columns"
   ]
  },
  {
   "cell_type": "code",
   "execution_count": 13,
   "metadata": {},
   "outputs": [
    {
     "data": {
      "text/plain": [
       "Text(0, 0.5, 'Price')"
      ]
     },
     "execution_count": 13,
     "metadata": {},
     "output_type": "execute_result"
    },
    {
     "data": {
      "image/png": "[encoded data removed]",
      "text/plain": [
       "<Figure size 1152x576 with 1 Axes>"
      ]
     },
     "metadata": {
      "needs_background": "light"
     },
     "output_type": "display_data"
    }
   ],
   "source": [
    "plt.figure(figsize=(16,8))\n",
    "plt.scatter(train.ID,train.Price,alpha=0.95)\n",
    "plt.xlabel('ID')\n",
    "plt.ylabel('Price')"
   ]
  },
  {
   "cell_type": "code",
   "execution_count": 14,
   "metadata": {},
   "outputs": [
    {
     "data": {
      "text/plain": [
       "<AxesSubplot:xlabel='Price'>"
      ]
     },
     "execution_count": 14,
     "metadata": {},
     "output_type": "execute_result"
    },
    {
     "data": {
      "image/png": "[encoded data removed]",
      "text/plain": [
       "<Figure size 432x288 with 1 Axes>"
      ]
     },
     "metadata": {
      "needs_background": "light"
     },
     "output_type": "display_data"
    }
   ],
   "source": [
    "import seaborn as sns\n",
    "sns.boxplot(x=train['Price'])"
   ]
  },
  {
   "cell_type": "code",
   "execution_count": 15,
   "metadata": {},
   "outputs": [
    {
     "data": {
      "text/plain": [
       "16983    45812886\n",
       "Name: ID, dtype: int64"
      ]
     },
     "execution_count": 15,
     "metadata": {},
     "output_type": "execute_result"
    }
   ],
   "source": [
    "train[train.Price== max(train.Price)]['ID']"
   ]
  },
  {
   "cell_type": "markdown",
   "metadata": {},
   "source": [
    "Now , we can observe that in a price Column there is an Outlier. so look into it"
   ]
  },
  {
   "cell_type": "markdown",
   "metadata": {},
   "source": [
    "### IQR (Inter Quartile Range)"
   ]
  },
  {
   "cell_type": "code",
   "execution_count": 16,
   "metadata": {},
   "outputs": [],
   "source": [
    "import numpy as np\n",
    "Q1P = np.quantile(train['Price'],0.25)\n",
    "Q3P = np.quantile(train['Price'],0.75)\n",
    "IQRP = Q3P - Q1P"
   ]
  },
  {
   "cell_type": "code",
   "execution_count": 17,
   "metadata": {},
   "outputs": [
    {
     "data": {
      "text/plain": [
       "16744.0"
      ]
     },
     "execution_count": 17,
     "metadata": {},
     "output_type": "execute_result"
    }
   ],
   "source": [
    "IQRP"
   ]
  },
  {
   "cell_type": "code",
   "execution_count": 18,
   "metadata": {},
   "outputs": [],
   "source": [
    "# Upper bound\n",
    "upper_price = np.where(train.Price >= (Q3P+1.5*IQRP))\n",
    "# Lower bound\n",
    "lower_price = np.where(train.Price <= (Q1P-1.5*IQRP))\n",
    "  \n",
    "''' Removing the Outliers '''\n",
    "train.drop(upper_price[0], inplace = True)\n",
    "train.drop(lower_price[0], inplace = True)\n",
    "  \n"
   ]
  },
  {
   "cell_type": "code",
   "execution_count": 19,
   "metadata": {},
   "outputs": [
    {
     "name": "stdout",
     "output_type": "stream",
     "text": [
      "New Shape:  (18164, 18)\n"
     ]
    }
   ],
   "source": [
    "print(\"New Shape: \", train.shape) "
   ]
  },
  {
   "cell_type": "code",
   "execution_count": 20,
   "metadata": {},
   "outputs": [
    {
     "data": {
      "text/plain": [
       "15681    0.015415\n",
       "470      0.015085\n",
       "14113    0.013433\n",
       "392      0.013323\n",
       "314      0.012938\n",
       "           ...   \n",
       "19068    0.000055\n",
       "24273    0.000055\n",
       "4679     0.000055\n",
       "29163    0.000055\n",
       "16408    0.000055\n",
       "Name: Price, Length: 1855, dtype: float64"
      ]
     },
     "execution_count": 20,
     "metadata": {},
     "output_type": "execute_result"
    }
   ],
   "source": [
    "train.Price.value_counts(normalize=True)"
   ]
  },
  {
   "cell_type": "code",
   "execution_count": null,
   "metadata": {},
   "outputs": [],
   "source": []
  },
  {
   "cell_type": "code",
   "execution_count": 21,
   "metadata": {},
   "outputs": [
    {
     "data": {
      "text/plain": [
       "0        1399\n",
       "1        1018\n",
       "2         894\n",
       "3         862\n",
       "4         446\n",
       "         ... \n",
       "19232     894\n",
       "19233     831\n",
       "19234     836\n",
       "19235    1288\n",
       "19236     753\n",
       "Name: Levy, Length: 18164, dtype: int64"
      ]
     },
     "execution_count": 21,
     "metadata": {},
     "output_type": "execute_result"
    }
   ],
   "source": [
    "# that '-' can be replaced with NaN and applied mean to the Levy column\n",
    "# in Levy there are some null values are with '-' symbol \n",
    "train['Levy'].unique()\n",
    "train.Levy = train.Levy.replace('-',np.NaN).astype(float)\n",
    "#train.Levy\n",
    "train.Levy.fillna(train.Levy.mean(),inplace=True)\n",
    "#train.Levy\n",
    "#train.Levy.astype(int)\n",
    "train.Levy = train.Levy.round(0).astype('int64')\n",
    "train.Levy"
   ]
  },
  {
   "cell_type": "markdown",
   "metadata": {},
   "source": [
    "for test also same doing with mean"
   ]
  },
  {
   "cell_type": "code",
   "execution_count": 22,
   "metadata": {},
   "outputs": [
    {
     "data": {
      "text/plain": [
       "0        918\n",
       "1        918\n",
       "2        918\n",
       "3        975\n",
       "4        918\n",
       "        ... \n",
       "8240    1357\n",
       "8241     918\n",
       "8242    1646\n",
       "8243     784\n",
       "8244     448\n",
       "Name: Levy, Length: 8245, dtype: int64"
      ]
     },
     "execution_count": 22,
     "metadata": {},
     "output_type": "execute_result"
    }
   ],
   "source": [
    "# that '-' can be replaced with NaN and applied mean to the Levy column\n",
    "# in Levy there are some null values are with '-' symbol \n",
    "test['Levy'].unique()\n",
    "test.Levy = test.Levy.replace('-',np.NaN).astype(float)\n",
    "#test.Levy\n",
    "test.Levy.fillna(test.Levy.mean(),inplace=True)\n",
    "#test.Levy\n",
    "#test.Levy.astype(int)\n",
    "test.Levy = test.Levy.round(0).astype('int64')\n",
    "test.Levy\n"
   ]
  },
  {
   "cell_type": "code",
   "execution_count": 23,
   "metadata": {},
   "outputs": [],
   "source": [
    "#train.Manufacturer.value_counts()"
   ]
  },
  {
   "cell_type": "code",
   "execution_count": 24,
   "metadata": {},
   "outputs": [],
   "source": [
    "#train.Model.value_counts()"
   ]
  },
  {
   "cell_type": "code",
   "execution_count": 25,
   "metadata": {},
   "outputs": [],
   "source": [
    "#train['Prod. year'].value_counts()"
   ]
  },
  {
   "cell_type": "code",
   "execution_count": 26,
   "metadata": {},
   "outputs": [],
   "source": [
    "#train.Category.value_counts()"
   ]
  },
  {
   "cell_type": "code",
   "execution_count": 27,
   "metadata": {},
   "outputs": [],
   "source": [
    "#train['Leather interior'].value_counts()"
   ]
  },
  {
   "cell_type": "code",
   "execution_count": 28,
   "metadata": {},
   "outputs": [],
   "source": [
    "#train['Fuel type'].value_counts()"
   ]
  },
  {
   "cell_type": "code",
   "execution_count": 29,
   "metadata": {},
   "outputs": [],
   "source": [
    "#train['Engine volume'].value_counts()"
   ]
  },
  {
   "cell_type": "code",
   "execution_count": 30,
   "metadata": {},
   "outputs": [],
   "source": [
    "#removed Turbo and extra spaces for the engine volume \n",
    "#converted into float\n",
    "train['Engine volume'] = train['Engine volume'].str.replace('Turbo','')\n",
    "train['Engine volume'].str.strip()\n",
    "train['Engine volume']= train['Engine volume'].astype(float)\n"
   ]
  },
  {
   "cell_type": "code",
   "execution_count": 31,
   "metadata": {},
   "outputs": [
    {
     "data": {
      "text/plain": [
       "0        3.5\n",
       "1        3.0\n",
       "2        1.3\n",
       "3        2.5\n",
       "4        1.3\n",
       "        ... \n",
       "19232    2.0\n",
       "19233    2.4\n",
       "19234    2.0\n",
       "19235    2.0\n",
       "19236    2.4\n",
       "Name: Engine volume, Length: 18164, dtype: float64"
      ]
     },
     "execution_count": 31,
     "metadata": {},
     "output_type": "execute_result"
    }
   ],
   "source": [
    "train['Engine volume']"
   ]
  },
  {
   "cell_type": "code",
   "execution_count": 32,
   "metadata": {},
   "outputs": [],
   "source": [
    "#train['Engine volume'].value_counts()"
   ]
  },
  {
   "cell_type": "code",
   "execution_count": 33,
   "metadata": {},
   "outputs": [],
   "source": [
    "#removed Turbo and extra spaces for the engine volume \n",
    "#converted into float\n",
    "test['Engine volume'] = test['Engine volume'].str.replace('Turbo','')\n",
    "test['Engine volume'].str.strip()\n",
    "test['Engine volume']= test['Engine volume'].astype(float)"
   ]
  },
  {
   "cell_type": "code",
   "execution_count": 34,
   "metadata": {},
   "outputs": [
    {
     "data": {
      "text/plain": [
       "0       2.0\n",
       "1       2.4\n",
       "2       1.5\n",
       "3       3.2\n",
       "4       1.6\n",
       "       ... \n",
       "8240    1.6\n",
       "8241    2.8\n",
       "8242    4.6\n",
       "8243    1.5\n",
       "8244    1.3\n",
       "Name: Engine volume, Length: 8245, dtype: float64"
      ]
     },
     "execution_count": 34,
     "metadata": {},
     "output_type": "execute_result"
    }
   ],
   "source": [
    "test['Engine volume']"
   ]
  },
  {
   "cell_type": "code",
   "execution_count": 35,
   "metadata": {},
   "outputs": [],
   "source": [
    "#train['Mileage'].value_counts()"
   ]
  },
  {
   "cell_type": "code",
   "execution_count": 36,
   "metadata": {},
   "outputs": [],
   "source": [
    "#test.Mileage.value_counts()"
   ]
  },
  {
   "cell_type": "markdown",
   "metadata": {},
   "source": [
    "**In Mileage column many of the entries are with dummy values , so, we can drop this column in both train and test**"
   ]
  },
  {
   "cell_type": "code",
   "execution_count": 37,
   "metadata": {},
   "outputs": [],
   "source": [
    "#train.Cylinders.value_counts()"
   ]
  },
  {
   "cell_type": "code",
   "execution_count": 38,
   "metadata": {},
   "outputs": [],
   "source": [
    "#test.Cylinders.value_counts()"
   ]
  },
  {
   "cell_type": "markdown",
   "metadata": {},
   "source": [
    "There is an outlier we can observe in the test file. Number of cylinders 127 may be wrong, so taking median for that outlier"
   ]
  },
  {
   "cell_type": "code",
   "execution_count": 39,
   "metadata": {},
   "outputs": [],
   "source": [
    "median = test.loc[test.Cylinders <= 15, 'Cylinders'].median()\n",
    "\n",
    "test.Cylinders = np.where(test.Cylinders > 15 , median, test.Cylinders)"
   ]
  },
  {
   "cell_type": "code",
   "execution_count": 40,
   "metadata": {},
   "outputs": [
    {
     "data": {
      "text/plain": [
       "4.0     6116\n",
       "6.0     1473\n",
       "8.0      474\n",
       "5.0       68\n",
       "3.0       54\n",
       "2.0       17\n",
       "12.0      16\n",
       "1.0       14\n",
       "10.0       6\n",
       "7.0        4\n",
       "15.0       1\n",
       "9.0        1\n",
       "11.0       1\n",
       "Name: Cylinders, dtype: int64"
      ]
     },
     "execution_count": 40,
     "metadata": {},
     "output_type": "execute_result"
    }
   ],
   "source": [
    "test.Cylinders.value_counts()"
   ]
  },
  {
   "cell_type": "code",
   "execution_count": 41,
   "metadata": {},
   "outputs": [
    {
     "name": "stdout",
     "output_type": "stream",
     "text": [
      "<class 'pandas.core.frame.DataFrame'>\n",
      "RangeIndex: 8245 entries, 0 to 8244\n",
      "Data columns (total 18 columns):\n",
      " #   Column            Non-Null Count  Dtype  \n",
      "---  ------            --------------  -----  \n",
      " 0   ID                8245 non-null   int64  \n",
      " 1   Levy              8245 non-null   int64  \n",
      " 2   Manufacturer      8245 non-null   object \n",
      " 3   Model             8245 non-null   object \n",
      " 4   Prod. year        8245 non-null   int64  \n",
      " 5   Category          8245 non-null   object \n",
      " 6   Leather interior  8245 non-null   object \n",
      " 7   Fuel type         8245 non-null   object \n",
      " 8   Engine volume     8245 non-null   float64\n",
      " 9   Mileage           8245 non-null   object \n",
      " 10  Cylinders         8245 non-null   float64\n",
      " 11  Gear box type     8245 non-null   object \n",
      " 12  Drive wheels      8245 non-null   object \n",
      " 13  Doors             8245 non-null   object \n",
      " 14  Wheel             8245 non-null   object \n",
      " 15  Color             8245 non-null   object \n",
      " 16  Airbags           8245 non-null   int64  \n",
      " 17  Price             0 non-null      float64\n",
      "dtypes: float64(3), int64(4), object(11)\n",
      "memory usage: 1.1+ MB\n"
     ]
    }
   ],
   "source": [
    "test.info()"
   ]
  },
  {
   "cell_type": "code",
   "execution_count": 42,
   "metadata": {},
   "outputs": [],
   "source": [
    "#train['Gear box type'].value_counts()"
   ]
  },
  {
   "cell_type": "code",
   "execution_count": 43,
   "metadata": {},
   "outputs": [],
   "source": [
    "#train['Drive wheels'].value_counts()"
   ]
  },
  {
   "cell_type": "code",
   "execution_count": 44,
   "metadata": {},
   "outputs": [],
   "source": [
    "#train.Doors.value_counts()"
   ]
  },
  {
   "cell_type": "code",
   "execution_count": 45,
   "metadata": {},
   "outputs": [
    {
     "data": {
      "text/plain": [
       "array([2, 4, 5], dtype=int64)"
      ]
     },
     "execution_count": 45,
     "metadata": {},
     "output_type": "execute_result"
    }
   ],
   "source": [
    "test.Doors = test.Doors.replace({'04-May': '4',\n",
    "                                   '02-Mar': '2',\n",
    "                                  '>5': '5'})\n",
    "test.Doors = test.Doors.astype('int64')\n",
    "test.Doors.unique()"
   ]
  },
  {
   "cell_type": "code",
   "execution_count": 46,
   "metadata": {},
   "outputs": [
    {
     "data": {
      "text/plain": [
       "Text(0.5, 0, 'Production Year')"
      ]
     },
     "execution_count": 46,
     "metadata": {},
     "output_type": "execute_result"
    },
    {
     "data": {
      "image/png": "[encoded data removed]",
      "text/plain": [
       "<Figure size 1152x576 with 1 Axes>"
      ]
     },
     "metadata": {
      "needs_background": "light"
     },
     "output_type": "display_data"
    }
   ],
   "source": [
    "plt.figure(figsize=(16,8))\n",
    "plt.scatter(y= test.Doors,x= test['Prod. year'],alpha=0.95)\n",
    "plt.ylabel('Doors')\n",
    "plt.xlabel('Production Year')"
   ]
  },
  {
   "cell_type": "code",
   "execution_count": 47,
   "metadata": {},
   "outputs": [
    {
     "data": {
      "text/plain": [
       "array([4, 2, 5], dtype=int64)"
      ]
     },
     "execution_count": 47,
     "metadata": {},
     "output_type": "execute_result"
    }
   ],
   "source": [
    "train.Doors = train.Doors.replace({'04-May': '4',\n",
    "                                   '02-Mar': '2',\n",
    "                                  '>5': '5'})\n",
    "train.Doors = train.Doors.astype('int64')\n",
    "train.Doors.unique()"
   ]
  },
  {
   "cell_type": "code",
   "execution_count": 48,
   "metadata": {},
   "outputs": [
    {
     "data": {
      "text/plain": [
       "Text(0.5, 0, 'Production Year')"
      ]
     },
     "execution_count": 48,
     "metadata": {},
     "output_type": "execute_result"
    },
    {
     "data": {
      "image/png": "[encoded data removed]",
      "text/plain": [
       "<Figure size 1152x576 with 1 Axes>"
      ]
     },
     "metadata": {
      "needs_background": "light"
     },
     "output_type": "display_data"
    }
   ],
   "source": [
    "plt.figure(figsize=(16,8))\n",
    "plt.scatter(y= train.Doors,x= train['Prod. year'],alpha=0.95)\n",
    "plt.ylabel('Doors')\n",
    "plt.xlabel('Production Year')"
   ]
  },
  {
   "cell_type": "code",
   "execution_count": 49,
   "metadata": {},
   "outputs": [],
   "source": [
    "#train.Wheel.value_counts()"
   ]
  },
  {
   "cell_type": "code",
   "execution_count": 50,
   "metadata": {},
   "outputs": [],
   "source": [
    "#train.Color.value_counts()"
   ]
  },
  {
   "cell_type": "code",
   "execution_count": 51,
   "metadata": {},
   "outputs": [],
   "source": [
    "#train.Airbags.value_counts()"
   ]
  },
  {
   "cell_type": "code",
   "execution_count": 52,
   "metadata": {},
   "outputs": [
    {
     "data": {
      "text/plain": [
       "Index(['ID', 'Price', 'Levy', 'Manufacturer', 'Model', 'Prod. year',\n",
       "       'Category', 'Leather interior', 'Fuel type', 'Engine volume', 'Mileage',\n",
       "       'Cylinders', 'Gear box type', 'Drive wheels', 'Doors', 'Wheel', 'Color',\n",
       "       'Airbags'],\n",
       "      dtype='object')"
      ]
     },
     "execution_count": 52,
     "metadata": {},
     "output_type": "execute_result"
    }
   ],
   "source": [
    "train.columns"
   ]
  },
  {
   "cell_type": "code",
   "execution_count": 53,
   "metadata": {},
   "outputs": [
    {
     "name": "stdout",
     "output_type": "stream",
     "text": [
      "<class 'pandas.core.frame.DataFrame'>\n",
      "Int64Index: 18164 entries, 0 to 19236\n",
      "Data columns (total 18 columns):\n",
      " #   Column            Non-Null Count  Dtype  \n",
      "---  ------            --------------  -----  \n",
      " 0   ID                18164 non-null  int64  \n",
      " 1   Price             18164 non-null  int64  \n",
      " 2   Levy              18164 non-null  int64  \n",
      " 3   Manufacturer      18164 non-null  object \n",
      " 4   Model             18164 non-null  object \n",
      " 5   Prod. year        18164 non-null  int64  \n",
      " 6   Category          18164 non-null  object \n",
      " 7   Leather interior  18164 non-null  object \n",
      " 8   Fuel type         18164 non-null  object \n",
      " 9   Engine volume     18164 non-null  float64\n",
      " 10  Mileage           18164 non-null  object \n",
      " 11  Cylinders         18164 non-null  float64\n",
      " 12  Gear box type     18164 non-null  object \n",
      " 13  Drive wheels      18164 non-null  object \n",
      " 14  Doors             18164 non-null  int64  \n",
      " 15  Wheel             18164 non-null  object \n",
      " 16  Color             18164 non-null  object \n",
      " 17  Airbags           18164 non-null  int64  \n",
      "dtypes: float64(2), int64(6), object(10)\n",
      "memory usage: 3.1+ MB\n"
     ]
    }
   ],
   "source": [
    "train.info()"
   ]
  },
  {
   "cell_type": "code",
   "execution_count": 54,
   "metadata": {},
   "outputs": [
    {
     "data": {
      "text/plain": [
       "\"sub2=pd.DataFrame({'ID':test.ID,'Price':[0]*len(test)})\\nsub2.to_csv('countcols1.csv',index=False)\""
      ]
     },
     "execution_count": 54,
     "metadata": {},
     "output_type": "execute_result"
    }
   ],
   "source": [
    "'''sub2=pd.DataFrame({'ID':test.ID,'Price':[0]*len(test)})\n",
    "sub2.to_csv('countcols1.csv',index=False)'''"
   ]
  },
  {
   "cell_type": "markdown",
   "metadata": {},
   "source": [
    "# Data Preprocessing"
   ]
  },
  {
   "cell_type": "code",
   "execution_count": 55,
   "metadata": {},
   "outputs": [],
   "source": [
    "#Dropping some featurs as they are  not required or will not help in regression task\n",
    "df_train=train.copy()\n",
    "df_train.drop(['ID','Prod. year','Mileage','Doors','Color','Model','Manufacturer','Engine volume'],axis=1,inplace=True)"
   ]
  },
  {
   "cell_type": "code",
   "execution_count": 56,
   "metadata": {},
   "outputs": [
    {
     "data": {
      "text/html": [
       "<div>\n",
       "<style scoped>\n",
       "    .dataframe tbody tr th:only-of-type {\n",
       "        vertical-align: middle;\n",
       "    }\n",
       "\n",
       "    .dataframe tbody tr th {\n",
       "        vertical-align: top;\n",
       "    }\n",
       "\n",
       "    .dataframe thead th {\n",
       "        text-align: right;\n",
       "    }\n",
       "</style>\n",
       "<table border=\"1\" class=\"dataframe\">\n",
       "  <thead>\n",
       "    <tr style=\"text-align: right;\">\n",
       "      <th></th>\n",
       "      <th>Price</th>\n",
       "      <th>Levy</th>\n",
       "      <th>Category</th>\n",
       "      <th>Leather interior</th>\n",
       "      <th>Fuel type</th>\n",
       "      <th>Cylinders</th>\n",
       "      <th>Gear box type</th>\n",
       "      <th>Drive wheels</th>\n",
       "      <th>Wheel</th>\n",
       "      <th>Airbags</th>\n",
       "    </tr>\n",
       "  </thead>\n",
       "  <tbody>\n",
       "    <tr>\n",
       "      <th>0</th>\n",
       "      <td>13328</td>\n",
       "      <td>1399</td>\n",
       "      <td>Jeep</td>\n",
       "      <td>Yes</td>\n",
       "      <td>Hybrid</td>\n",
       "      <td>6.0</td>\n",
       "      <td>Automatic</td>\n",
       "      <td>4x4</td>\n",
       "      <td>Left wheel</td>\n",
       "      <td>12</td>\n",
       "    </tr>\n",
       "    <tr>\n",
       "      <th>1</th>\n",
       "      <td>16621</td>\n",
       "      <td>1018</td>\n",
       "      <td>Jeep</td>\n",
       "      <td>No</td>\n",
       "      <td>Petrol</td>\n",
       "      <td>6.0</td>\n",
       "      <td>Tiptronic</td>\n",
       "      <td>4x4</td>\n",
       "      <td>Left wheel</td>\n",
       "      <td>8</td>\n",
       "    </tr>\n",
       "    <tr>\n",
       "      <th>2</th>\n",
       "      <td>8467</td>\n",
       "      <td>894</td>\n",
       "      <td>Hatchback</td>\n",
       "      <td>No</td>\n",
       "      <td>Petrol</td>\n",
       "      <td>4.0</td>\n",
       "      <td>Variator</td>\n",
       "      <td>Front</td>\n",
       "      <td>Right-hand drive</td>\n",
       "      <td>2</td>\n",
       "    </tr>\n",
       "    <tr>\n",
       "      <th>3</th>\n",
       "      <td>3607</td>\n",
       "      <td>862</td>\n",
       "      <td>Jeep</td>\n",
       "      <td>Yes</td>\n",
       "      <td>Hybrid</td>\n",
       "      <td>4.0</td>\n",
       "      <td>Automatic</td>\n",
       "      <td>4x4</td>\n",
       "      <td>Left wheel</td>\n",
       "      <td>0</td>\n",
       "    </tr>\n",
       "    <tr>\n",
       "      <th>4</th>\n",
       "      <td>11726</td>\n",
       "      <td>446</td>\n",
       "      <td>Hatchback</td>\n",
       "      <td>Yes</td>\n",
       "      <td>Petrol</td>\n",
       "      <td>4.0</td>\n",
       "      <td>Automatic</td>\n",
       "      <td>Front</td>\n",
       "      <td>Left wheel</td>\n",
       "      <td>4</td>\n",
       "    </tr>\n",
       "    <tr>\n",
       "      <th>...</th>\n",
       "      <td>...</td>\n",
       "      <td>...</td>\n",
       "      <td>...</td>\n",
       "      <td>...</td>\n",
       "      <td>...</td>\n",
       "      <td>...</td>\n",
       "      <td>...</td>\n",
       "      <td>...</td>\n",
       "      <td>...</td>\n",
       "      <td>...</td>\n",
       "    </tr>\n",
       "    <tr>\n",
       "      <th>19232</th>\n",
       "      <td>8467</td>\n",
       "      <td>894</td>\n",
       "      <td>Coupe</td>\n",
       "      <td>Yes</td>\n",
       "      <td>CNG</td>\n",
       "      <td>4.0</td>\n",
       "      <td>Manual</td>\n",
       "      <td>Rear</td>\n",
       "      <td>Left wheel</td>\n",
       "      <td>5</td>\n",
       "    </tr>\n",
       "    <tr>\n",
       "      <th>19233</th>\n",
       "      <td>15681</td>\n",
       "      <td>831</td>\n",
       "      <td>Sedan</td>\n",
       "      <td>Yes</td>\n",
       "      <td>Petrol</td>\n",
       "      <td>4.0</td>\n",
       "      <td>Tiptronic</td>\n",
       "      <td>Front</td>\n",
       "      <td>Left wheel</td>\n",
       "      <td>8</td>\n",
       "    </tr>\n",
       "    <tr>\n",
       "      <th>19234</th>\n",
       "      <td>26108</td>\n",
       "      <td>836</td>\n",
       "      <td>Jeep</td>\n",
       "      <td>Yes</td>\n",
       "      <td>Diesel</td>\n",
       "      <td>4.0</td>\n",
       "      <td>Automatic</td>\n",
       "      <td>Front</td>\n",
       "      <td>Left wheel</td>\n",
       "      <td>4</td>\n",
       "    </tr>\n",
       "    <tr>\n",
       "      <th>19235</th>\n",
       "      <td>5331</td>\n",
       "      <td>1288</td>\n",
       "      <td>Jeep</td>\n",
       "      <td>Yes</td>\n",
       "      <td>Diesel</td>\n",
       "      <td>4.0</td>\n",
       "      <td>Automatic</td>\n",
       "      <td>Front</td>\n",
       "      <td>Left wheel</td>\n",
       "      <td>4</td>\n",
       "    </tr>\n",
       "    <tr>\n",
       "      <th>19236</th>\n",
       "      <td>470</td>\n",
       "      <td>753</td>\n",
       "      <td>Sedan</td>\n",
       "      <td>Yes</td>\n",
       "      <td>Hybrid</td>\n",
       "      <td>4.0</td>\n",
       "      <td>Automatic</td>\n",
       "      <td>Front</td>\n",
       "      <td>Left wheel</td>\n",
       "      <td>12</td>\n",
       "    </tr>\n",
       "  </tbody>\n",
       "</table>\n",
       "<p>18164 rows × 10 columns</p>\n",
       "</div>"
      ],
      "text/plain": [
       "       Price  Levy   Category Leather interior Fuel type  Cylinders  \\\n",
       "0      13328  1399       Jeep              Yes    Hybrid        6.0   \n",
       "1      16621  1018       Jeep               No    Petrol        6.0   \n",
       "2       8467   894  Hatchback               No    Petrol        4.0   \n",
       "3       3607   862       Jeep              Yes    Hybrid        4.0   \n",
       "4      11726   446  Hatchback              Yes    Petrol        4.0   \n",
       "...      ...   ...        ...              ...       ...        ...   \n",
       "19232   8467   894      Coupe              Yes       CNG        4.0   \n",
       "19233  15681   831      Sedan              Yes    Petrol        4.0   \n",
       "19234  26108   836       Jeep              Yes    Diesel        4.0   \n",
       "19235   5331  1288       Jeep              Yes    Diesel        4.0   \n",
       "19236    470   753      Sedan              Yes    Hybrid        4.0   \n",
       "\n",
       "      Gear box type Drive wheels             Wheel  Airbags  \n",
       "0         Automatic          4x4        Left wheel       12  \n",
       "1         Tiptronic          4x4        Left wheel        8  \n",
       "2          Variator        Front  Right-hand drive        2  \n",
       "3         Automatic          4x4        Left wheel        0  \n",
       "4         Automatic        Front        Left wheel        4  \n",
       "...             ...          ...               ...      ...  \n",
       "19232        Manual         Rear        Left wheel        5  \n",
       "19233     Tiptronic        Front        Left wheel        8  \n",
       "19234     Automatic        Front        Left wheel        4  \n",
       "19235     Automatic        Front        Left wheel        4  \n",
       "19236     Automatic        Front        Left wheel       12  \n",
       "\n",
       "[18164 rows x 10 columns]"
      ]
     },
     "execution_count": 56,
     "metadata": {},
     "output_type": "execute_result"
    }
   ],
   "source": [
    "df_train"
   ]
  },
  {
   "cell_type": "markdown",
   "metadata": {},
   "source": [
    "**Label Encoding**  \n",
    "\n",
    "* Train and test has  11 common Category\n",
    "* Train and test has   2 common Leather interior\n",
    "* Train and test has   7 common Fuel type\n",
    "* Train and test has   4 common Gear box type\n",
    "* Train and test has   3 common Drive wheels\n",
    "* Train and test has   2 common wheel\n",
    "\n"
   ]
  },
  {
   "cell_type": "code",
   "execution_count": 57,
   "metadata": {},
   "outputs": [
    {
     "data": {
      "text/plain": [
       "11"
      ]
     },
     "execution_count": 57,
     "metadata": {},
     "output_type": "execute_result"
    }
   ],
   "source": [
    "len(np.intersect1d(train['Category'],test['Category']))"
   ]
  },
  {
   "cell_type": "code",
   "execution_count": 58,
   "metadata": {},
   "outputs": [
    {
     "data": {
      "text/plain": [
       "2"
      ]
     },
     "execution_count": 58,
     "metadata": {},
     "output_type": "execute_result"
    }
   ],
   "source": [
    "len(np.intersect1d(train['Leather interior'],test['Leather interior']))"
   ]
  },
  {
   "cell_type": "code",
   "execution_count": 59,
   "metadata": {},
   "outputs": [
    {
     "data": {
      "text/plain": [
       "7"
      ]
     },
     "execution_count": 59,
     "metadata": {},
     "output_type": "execute_result"
    }
   ],
   "source": [
    "len(np.intersect1d(train['Fuel type'],test['Fuel type']))"
   ]
  },
  {
   "cell_type": "code",
   "execution_count": 60,
   "metadata": {},
   "outputs": [
    {
     "data": {
      "text/plain": [
       "4"
      ]
     },
     "execution_count": 60,
     "metadata": {},
     "output_type": "execute_result"
    }
   ],
   "source": [
    "len(np.intersect1d(train['Gear box type'],test['Gear box type']))"
   ]
  },
  {
   "cell_type": "code",
   "execution_count": 61,
   "metadata": {},
   "outputs": [
    {
     "data": {
      "text/plain": [
       "3"
      ]
     },
     "execution_count": 61,
     "metadata": {},
     "output_type": "execute_result"
    }
   ],
   "source": [
    "len(np.intersect1d(train['Drive wheels'],test['Drive wheels']))"
   ]
  },
  {
   "cell_type": "code",
   "execution_count": 62,
   "metadata": {},
   "outputs": [
    {
     "data": {
      "text/plain": [
       "2"
      ]
     },
     "execution_count": 62,
     "metadata": {},
     "output_type": "execute_result"
    }
   ],
   "source": [
    "len(np.intersect1d(train['Wheel'],test['Wheel']))"
   ]
  },
  {
   "cell_type": "code",
   "execution_count": 63,
   "metadata": {},
   "outputs": [],
   "source": [
    "C=list(set(train.Category.values))\n",
    "C.extend(list(set(test.Category.values)))\n"
   ]
  },
  {
   "cell_type": "code",
   "execution_count": 64,
   "metadata": {},
   "outputs": [],
   "source": [
    "Li=list(set(train['Leather interior'].values))\n",
    "Li.extend(list(set(test['Leather interior'].values)))"
   ]
  },
  {
   "cell_type": "code",
   "execution_count": 65,
   "metadata": {},
   "outputs": [],
   "source": [
    "Ft=list(set(train['Fuel type'].values))\n",
    "Ft.extend(list(set(test['Fuel type'].values)))"
   ]
  },
  {
   "cell_type": "code",
   "execution_count": 66,
   "metadata": {},
   "outputs": [],
   "source": [
    "Gbt=list(set(train['Gear box type'].values))\n",
    "Gbt.extend(list(set(test['Gear box type'].values)))"
   ]
  },
  {
   "cell_type": "code",
   "execution_count": 67,
   "metadata": {},
   "outputs": [],
   "source": [
    "Dw=list(set(train['Drive wheels'].values))\n",
    "Dw.extend(list(set(test['Drive wheels'].values)))"
   ]
  },
  {
   "cell_type": "code",
   "execution_count": 68,
   "metadata": {},
   "outputs": [],
   "source": [
    "W=list(set(train.Wheel.values))\n",
    "W.extend(list(set(test.Wheel.values)))\n"
   ]
  },
  {
   "cell_type": "markdown",
   "metadata": {},
   "source": [
    "Transforming"
   ]
  },
  {
   "cell_type": "code",
   "execution_count": 69,
   "metadata": {},
   "outputs": [],
   "source": [
    "from sklearn.preprocessing import LabelEncoder,RobustScaler\n",
    "\n",
    "lb1=LabelEncoder()\n",
    "lb1.fit(np.asarray(C))\n",
    "df_train['Category']=lb1.transform(df_train['Category'])\n",
    "\n",
    "lb2=LabelEncoder()\n",
    "lb2.fit(np.asarray(Li))\n",
    "df_train['Leather interior']=lb2.transform(df_train['Leather interior'])\n",
    "\n",
    "lb3=LabelEncoder()\n",
    "lb3.fit(np.asarray(Ft))\n",
    "df_train['Fuel type']=lb3.transform(df_train['Fuel type'])\n",
    "\n",
    "lb4=LabelEncoder()\n",
    "lb4.fit(np.asarray(Gbt))\n",
    "df_train['Gear box type']=lb4.transform(df_train['Gear box type'])\n",
    "\n",
    "lb5=LabelEncoder()\n",
    "lb5.fit(np.asarray(Dw))\n",
    "df_train['Drive wheels']=lb5.transform(df_train['Drive wheels'])\n",
    "\n",
    "lb6=LabelEncoder()\n",
    "lb6.fit(np.asarray(W))\n",
    "df_train['Wheel']=lb6.transform(df_train['Wheel'])\n"
   ]
  },
  {
   "cell_type": "markdown",
   "metadata": {},
   "source": [
    "One hot Encoding for the remaining variables"
   ]
  },
  {
   "cell_type": "code",
   "execution_count": 70,
   "metadata": {},
   "outputs": [],
   "source": [
    "df_train=pd.get_dummies(df_train,drop_first=True)"
   ]
  },
  {
   "cell_type": "code",
   "execution_count": 71,
   "metadata": {},
   "outputs": [
    {
     "name": "stdout",
     "output_type": "stream",
     "text": [
      "<class 'pandas.core.frame.DataFrame'>\n",
      "Int64Index: 18164 entries, 0 to 19236\n",
      "Data columns (total 10 columns):\n",
      " #   Column            Non-Null Count  Dtype  \n",
      "---  ------            --------------  -----  \n",
      " 0   Price             18164 non-null  int64  \n",
      " 1   Levy              18164 non-null  int64  \n",
      " 2   Category          18164 non-null  int32  \n",
      " 3   Leather interior  18164 non-null  int32  \n",
      " 4   Fuel type         18164 non-null  int32  \n",
      " 5   Cylinders         18164 non-null  float64\n",
      " 6   Gear box type     18164 non-null  int32  \n",
      " 7   Drive wheels      18164 non-null  int32  \n",
      " 8   Wheel             18164 non-null  int32  \n",
      " 9   Airbags           18164 non-null  int64  \n",
      "dtypes: float64(1), int32(6), int64(3)\n",
      "memory usage: 1.6 MB\n"
     ]
    }
   ],
   "source": [
    "df_train.info()"
   ]
  },
  {
   "cell_type": "code",
   "execution_count": 72,
   "metadata": {},
   "outputs": [],
   "source": [
    "#Filling out the NaN's with Zero for basic\n",
    "\n",
    "#df_train.Cylinders.fillna(value=0,inplace=True)\n",
    "\n",
    "\n",
    "#No NULL values in the df_train"
   ]
  },
  {
   "cell_type": "markdown",
   "metadata": {},
   "source": [
    "No Null Values Now"
   ]
  },
  {
   "cell_type": "markdown",
   "metadata": {},
   "source": [
    "checking HeatMap"
   ]
  },
  {
   "cell_type": "code",
   "execution_count": 73,
   "metadata": {},
   "outputs": [
    {
     "data": {
      "text/plain": [
       "<AxesSubplot:>"
      ]
     },
     "execution_count": 73,
     "metadata": {},
     "output_type": "execute_result"
    },
    {
     "data": {
      "image/png": "[encoded data removed]",
      "text/plain": [
       "<Figure size 1152x720 with 2 Axes>"
      ]
     },
     "metadata": {
      "needs_background": "light"
     },
     "output_type": "display_data"
    }
   ],
   "source": [
    "plt.figure(figsize=(16,10))\n",
    "sns.heatmap(df_train.corr(),cmap='viridis')"
   ]
  },
  {
   "cell_type": "code",
   "execution_count": 74,
   "metadata": {},
   "outputs": [],
   "source": [
    "df_test=test.copy()\n",
    "df_test.drop(['ID','Prod. year','Mileage','Doors','Color','Model','Manufacturer','Engine volume'],axis=1,inplace=True)\n",
    "df_test['Category']=lb1.transform(df_test['Category'])\n",
    "\n",
    "df_test['Leather interior']=lb2.transform(df_test['Leather interior'])\n",
    "\n",
    "df_test['Fuel type']=lb3.transform(df_test['Fuel type'])\n",
    "\n",
    "df_test['Gear box type']=lb4.transform(df_test['Gear box type'])\n",
    "\n",
    "df_test['Drive wheels']=lb5.transform(df_test['Drive wheels'])\n",
    "\n",
    "df_test['Wheel']=lb6.transform(df_test['Wheel'])\n"
   ]
  },
  {
   "cell_type": "code",
   "execution_count": 75,
   "metadata": {},
   "outputs": [
    {
     "data": {
      "text/html": [
       "<div>\n",
       "<style scoped>\n",
       "    .dataframe tbody tr th:only-of-type {\n",
       "        vertical-align: middle;\n",
       "    }\n",
       "\n",
       "    .dataframe tbody tr th {\n",
       "        vertical-align: top;\n",
       "    }\n",
       "\n",
       "    .dataframe thead th {\n",
       "        text-align: right;\n",
       "    }\n",
       "</style>\n",
       "<table border=\"1\" class=\"dataframe\">\n",
       "  <thead>\n",
       "    <tr style=\"text-align: right;\">\n",
       "      <th></th>\n",
       "      <th>Levy</th>\n",
       "      <th>Category</th>\n",
       "      <th>Leather interior</th>\n",
       "      <th>Fuel type</th>\n",
       "      <th>Cylinders</th>\n",
       "      <th>Gear box type</th>\n",
       "      <th>Drive wheels</th>\n",
       "      <th>Wheel</th>\n",
       "      <th>Airbags</th>\n",
       "      <th>Price</th>\n",
       "    </tr>\n",
       "  </thead>\n",
       "  <tbody>\n",
       "    <tr>\n",
       "      <th>0</th>\n",
       "      <td>918</td>\n",
       "      <td>3</td>\n",
       "      <td>0</td>\n",
       "      <td>1</td>\n",
       "      <td>4.0</td>\n",
       "      <td>1</td>\n",
       "      <td>1</td>\n",
       "      <td>0</td>\n",
       "      <td>10</td>\n",
       "      <td>NaN</td>\n",
       "    </tr>\n",
       "    <tr>\n",
       "      <th>1</th>\n",
       "      <td>918</td>\n",
       "      <td>9</td>\n",
       "      <td>1</td>\n",
       "      <td>5</td>\n",
       "      <td>4.0</td>\n",
       "      <td>2</td>\n",
       "      <td>1</td>\n",
       "      <td>0</td>\n",
       "      <td>10</td>\n",
       "      <td>NaN</td>\n",
       "    </tr>\n",
       "    <tr>\n",
       "      <th>2</th>\n",
       "      <td>918</td>\n",
       "      <td>9</td>\n",
       "      <td>0</td>\n",
       "      <td>5</td>\n",
       "      <td>4.0</td>\n",
       "      <td>0</td>\n",
       "      <td>1</td>\n",
       "      <td>1</td>\n",
       "      <td>8</td>\n",
       "      <td>NaN</td>\n",
       "    </tr>\n",
       "    <tr>\n",
       "      <th>3</th>\n",
       "      <td>975</td>\n",
       "      <td>4</td>\n",
       "      <td>1</td>\n",
       "      <td>5</td>\n",
       "      <td>6.0</td>\n",
       "      <td>0</td>\n",
       "      <td>0</td>\n",
       "      <td>0</td>\n",
       "      <td>12</td>\n",
       "      <td>NaN</td>\n",
       "    </tr>\n",
       "    <tr>\n",
       "      <th>4</th>\n",
       "      <td>918</td>\n",
       "      <td>3</td>\n",
       "      <td>0</td>\n",
       "      <td>5</td>\n",
       "      <td>4.0</td>\n",
       "      <td>1</td>\n",
       "      <td>1</td>\n",
       "      <td>0</td>\n",
       "      <td>0</td>\n",
       "      <td>NaN</td>\n",
       "    </tr>\n",
       "  </tbody>\n",
       "</table>\n",
       "</div>"
      ],
      "text/plain": [
       "   Levy  Category  Leather interior  Fuel type  Cylinders  Gear box type  \\\n",
       "0   918         3                 0          1        4.0              1   \n",
       "1   918         9                 1          5        4.0              2   \n",
       "2   918         9                 0          5        4.0              0   \n",
       "3   975         4                 1          5        6.0              0   \n",
       "4   918         3                 0          5        4.0              1   \n",
       "\n",
       "   Drive wheels  Wheel  Airbags  Price  \n",
       "0             1      0       10    NaN  \n",
       "1             1      0       10    NaN  \n",
       "2             1      1        8    NaN  \n",
       "3             0      0       12    NaN  \n",
       "4             1      0        0    NaN  "
      ]
     },
     "execution_count": 75,
     "metadata": {},
     "output_type": "execute_result"
    }
   ],
   "source": [
    "df_test=pd.get_dummies(df_test,drop_first=True)\n",
    "df_test.head()"
   ]
  },
  {
   "cell_type": "code",
   "execution_count": 76,
   "metadata": {},
   "outputs": [],
   "source": [
    "df_test=df_test.drop('Price',axis=1)"
   ]
  },
  {
   "cell_type": "code",
   "execution_count": 77,
   "metadata": {},
   "outputs": [
    {
     "name": "stdout",
     "output_type": "stream",
     "text": [
      "<class 'pandas.core.frame.DataFrame'>\n",
      "RangeIndex: 8245 entries, 0 to 8244\n",
      "Data columns (total 9 columns):\n",
      " #   Column            Non-Null Count  Dtype  \n",
      "---  ------            --------------  -----  \n",
      " 0   Levy              8245 non-null   int64  \n",
      " 1   Category          8245 non-null   int32  \n",
      " 2   Leather interior  8245 non-null   int32  \n",
      " 3   Fuel type         8245 non-null   int32  \n",
      " 4   Cylinders         8245 non-null   float64\n",
      " 5   Gear box type     8245 non-null   int32  \n",
      " 6   Drive wheels      8245 non-null   int32  \n",
      " 7   Wheel             8245 non-null   int32  \n",
      " 8   Airbags           8245 non-null   int64  \n",
      "dtypes: float64(1), int32(6), int64(2)\n",
      "memory usage: 386.6 KB\n"
     ]
    }
   ],
   "source": [
    "df_test.info()"
   ]
  },
  {
   "cell_type": "code",
   "execution_count": 78,
   "metadata": {},
   "outputs": [
    {
     "data": {
      "text/plain": [
       "<AxesSubplot:>"
      ]
     },
     "execution_count": 78,
     "metadata": {},
     "output_type": "execute_result"
    },
    {
     "data": {
      "image/png": "[encoded data removed]",
      "text/plain": [
       "<Figure size 1152x720 with 2 Axes>"
      ]
     },
     "metadata": {
      "needs_background": "light"
     },
     "output_type": "display_data"
    }
   ],
   "source": [
    "plt.figure(figsize=(16,10))\n",
    "sns.heatmap(df_test.corr(),cmap='viridis')"
   ]
  },
  {
   "cell_type": "markdown",
   "metadata": {},
   "source": [
    "## Predictions using Root Mean Square Log Error in Linear Regression"
   ]
  },
  {
   "cell_type": "markdown",
   "metadata": {},
   "source": [
    "First checking for Train Model"
   ]
  },
  {
   "cell_type": "code",
   "execution_count": 79,
   "metadata": {},
   "outputs": [],
   "source": [
    "X_train_f = df_train.iloc[:,1:]"
   ]
  },
  {
   "cell_type": "code",
   "execution_count": 80,
   "metadata": {},
   "outputs": [
    {
     "data": {
      "text/html": [
       "<div>\n",
       "<style scoped>\n",
       "    .dataframe tbody tr th:only-of-type {\n",
       "        vertical-align: middle;\n",
       "    }\n",
       "\n",
       "    .dataframe tbody tr th {\n",
       "        vertical-align: top;\n",
       "    }\n",
       "\n",
       "    .dataframe thead th {\n",
       "        text-align: right;\n",
       "    }\n",
       "</style>\n",
       "<table border=\"1\" class=\"dataframe\">\n",
       "  <thead>\n",
       "    <tr style=\"text-align: right;\">\n",
       "      <th></th>\n",
       "      <th>Levy</th>\n",
       "      <th>Category</th>\n",
       "      <th>Leather interior</th>\n",
       "      <th>Fuel type</th>\n",
       "      <th>Cylinders</th>\n",
       "      <th>Gear box type</th>\n",
       "      <th>Drive wheels</th>\n",
       "      <th>Wheel</th>\n",
       "      <th>Airbags</th>\n",
       "    </tr>\n",
       "  </thead>\n",
       "  <tbody>\n",
       "    <tr>\n",
       "      <th>0</th>\n",
       "      <td>1399</td>\n",
       "      <td>4</td>\n",
       "      <td>1</td>\n",
       "      <td>2</td>\n",
       "      <td>6.0</td>\n",
       "      <td>0</td>\n",
       "      <td>0</td>\n",
       "      <td>0</td>\n",
       "      <td>12</td>\n",
       "    </tr>\n",
       "    <tr>\n",
       "      <th>1</th>\n",
       "      <td>1018</td>\n",
       "      <td>4</td>\n",
       "      <td>0</td>\n",
       "      <td>5</td>\n",
       "      <td>6.0</td>\n",
       "      <td>2</td>\n",
       "      <td>0</td>\n",
       "      <td>0</td>\n",
       "      <td>8</td>\n",
       "    </tr>\n",
       "  </tbody>\n",
       "</table>\n",
       "</div>"
      ],
      "text/plain": [
       "   Levy  Category  Leather interior  Fuel type  Cylinders  Gear box type  \\\n",
       "0  1399         4                 1          2        6.0              0   \n",
       "1  1018         4                 0          5        6.0              2   \n",
       "\n",
       "   Drive wheels  Wheel  Airbags  \n",
       "0             0      0       12  \n",
       "1             0      0        8  "
      ]
     },
     "execution_count": 80,
     "metadata": {},
     "output_type": "execute_result"
    }
   ],
   "source": [
    "X_train_f.head(2)"
   ]
  },
  {
   "cell_type": "code",
   "execution_count": 81,
   "metadata": {},
   "outputs": [
    {
     "data": {
      "text/plain": [
       "18164"
      ]
     },
     "execution_count": 81,
     "metadata": {},
     "output_type": "execute_result"
    }
   ],
   "source": [
    "len(X_train_f)"
   ]
  },
  {
   "cell_type": "code",
   "execution_count": 82,
   "metadata": {},
   "outputs": [
    {
     "data": {
      "text/plain": [
       "array([13328, 16621,  8467, ..., 26108,  5331,   470], dtype=int64)"
      ]
     },
     "execution_count": 82,
     "metadata": {},
     "output_type": "execute_result"
    }
   ],
   "source": [
    "y_train_f = df_train.iloc[:,0].values\n",
    "y_train_f"
   ]
  },
  {
   "cell_type": "code",
   "execution_count": 83,
   "metadata": {},
   "outputs": [
    {
     "data": {
      "text/plain": [
       "18164"
      ]
     },
     "execution_count": 83,
     "metadata": {},
     "output_type": "execute_result"
    }
   ],
   "source": [
    "len(y_train_f)"
   ]
  },
  {
   "cell_type": "code",
   "execution_count": 84,
   "metadata": {},
   "outputs": [
    {
     "data": {
      "text/plain": [
       "LinearRegression()"
      ]
     },
     "execution_count": 84,
     "metadata": {},
     "output_type": "execute_result"
    }
   ],
   "source": [
    "#Fit Linear Regression train Model\n",
    "from sklearn.linear_model import LinearRegression\n",
    "lr = LinearRegression()\n",
    "lr.fit(X_train_f ,y_train_f)\n"
   ]
  },
  {
   "cell_type": "code",
   "execution_count": 85,
   "metadata": {},
   "outputs": [
    {
     "data": {
      "text/plain": [
       "'Y_pred_lin_f = lr.predict(X_train_f)\\nprint(Y_pred_lin_f)'"
      ]
     },
     "execution_count": 85,
     "metadata": {},
     "output_type": "execute_result"
    }
   ],
   "source": [
    "'''Y_pred_lin_f = lr.predict(X_train_f)\n",
    "print(Y_pred_lin_f)'''"
   ]
  },
  {
   "cell_type": "code",
   "execution_count": 86,
   "metadata": {},
   "outputs": [],
   "source": [
    "#len(Y_pred_lin_f)"
   ]
  },
  {
   "cell_type": "code",
   "execution_count": 87,
   "metadata": {},
   "outputs": [
    {
     "data": {
      "text/plain": [
       "'from sklearn.metrics import mean_squared_log_error\\n\\nprint(mean_squared_log_error(y_train_f,Y_pred_lin_f))'"
      ]
     },
     "execution_count": 87,
     "metadata": {},
     "output_type": "execute_result"
    }
   ],
   "source": [
    "'''from sklearn.metrics import mean_squared_log_error\n",
    "\n",
    "print(mean_squared_log_error(y_train_f,Y_pred_lin_f))'''"
   ]
  },
  {
   "cell_type": "code",
   "execution_count": 88,
   "metadata": {},
   "outputs": [
    {
     "data": {
      "text/plain": [
       "\"import math\\ndef RMSLE(predict, target):\\n    total = 0 \\n    for k in range(len(predict)):\\n        LPred= np.log1p(predict[k]+1)\\n        LTarg = np.log1p(target[k] + 1)\\n        if not (math.isnan(LPred)) and  not (math.isnan(LTarg)): \\n            total = total + ((LPred-LTarg) **2)\\n        \\n    total = total / len(predict)        \\n    return np.sqrt(total)\\nprint ('RMSLE of train check: ' + str(RMSLE(Y_pred_lin_f,y_train_f)) )\""
      ]
     },
     "execution_count": 88,
     "metadata": {},
     "output_type": "execute_result"
    }
   ],
   "source": [
    "'''import math\n",
    "def RMSLE(predict, target):\n",
    "    total = 0 \n",
    "    for k in range(len(predict)):\n",
    "        LPred= np.log1p(predict[k]+1)\n",
    "        LTarg = np.log1p(target[k] + 1)\n",
    "        if not (math.isnan(LPred)) and  not (math.isnan(LTarg)): \n",
    "            total = total + ((LPred-LTarg) **2)\n",
    "        \n",
    "    total = total / len(predict)        \n",
    "    return np.sqrt(total)\n",
    "print ('RMSLE of train check: ' + str(RMSLE(Y_pred_lin_f,y_train_f)) )'''"
   ]
  },
  {
   "cell_type": "markdown",
   "metadata": {},
   "source": [
    "Applying it for Predictions"
   ]
  },
  {
   "cell_type": "code",
   "execution_count": 89,
   "metadata": {},
   "outputs": [
    {
     "data": {
      "text/html": [
       "<div>\n",
       "<style scoped>\n",
       "    .dataframe tbody tr th:only-of-type {\n",
       "        vertical-align: middle;\n",
       "    }\n",
       "\n",
       "    .dataframe tbody tr th {\n",
       "        vertical-align: top;\n",
       "    }\n",
       "\n",
       "    .dataframe thead th {\n",
       "        text-align: right;\n",
       "    }\n",
       "</style>\n",
       "<table border=\"1\" class=\"dataframe\">\n",
       "  <thead>\n",
       "    <tr style=\"text-align: right;\">\n",
       "      <th></th>\n",
       "      <th>Levy</th>\n",
       "      <th>Category</th>\n",
       "      <th>Leather interior</th>\n",
       "      <th>Fuel type</th>\n",
       "      <th>Cylinders</th>\n",
       "      <th>Gear box type</th>\n",
       "      <th>Drive wheels</th>\n",
       "      <th>Wheel</th>\n",
       "      <th>Airbags</th>\n",
       "    </tr>\n",
       "  </thead>\n",
       "  <tbody>\n",
       "    <tr>\n",
       "      <th>0</th>\n",
       "      <td>918</td>\n",
       "      <td>3</td>\n",
       "      <td>0</td>\n",
       "      <td>1</td>\n",
       "      <td>4.0</td>\n",
       "      <td>1</td>\n",
       "      <td>1</td>\n",
       "      <td>0</td>\n",
       "      <td>10</td>\n",
       "    </tr>\n",
       "    <tr>\n",
       "      <th>1</th>\n",
       "      <td>918</td>\n",
       "      <td>9</td>\n",
       "      <td>1</td>\n",
       "      <td>5</td>\n",
       "      <td>4.0</td>\n",
       "      <td>2</td>\n",
       "      <td>1</td>\n",
       "      <td>0</td>\n",
       "      <td>10</td>\n",
       "    </tr>\n",
       "  </tbody>\n",
       "</table>\n",
       "</div>"
      ],
      "text/plain": [
       "   Levy  Category  Leather interior  Fuel type  Cylinders  Gear box type  \\\n",
       "0   918         3                 0          1        4.0              1   \n",
       "1   918         9                 1          5        4.0              2   \n",
       "\n",
       "   Drive wheels  Wheel  Airbags  \n",
       "0             1      0       10  \n",
       "1             1      0       10  "
      ]
     },
     "execution_count": 89,
     "metadata": {},
     "output_type": "execute_result"
    }
   ],
   "source": [
    "X_train_p = df_test.iloc[:,0:]\n",
    "X_train_p.head(2)"
   ]
  },
  {
   "cell_type": "code",
   "execution_count": 90,
   "metadata": {},
   "outputs": [
    {
     "name": "stdout",
     "output_type": "stream",
     "text": [
      "[14981.73256247 17142.17571509  3391.79959338 ... 13802.70243048\n",
      " 15258.57873155 14344.7797603 ]\n"
     ]
    }
   ],
   "source": [
    "\n",
    "#Final prediction using the best model with the optimal hyperparamter setting\n",
    "y_pred_p = lr.predict(X_train_p)\n",
    "print(y_pred_p)"
   ]
  },
  {
   "cell_type": "code",
   "execution_count": 91,
   "metadata": {},
   "outputs": [
    {
     "data": {
      "text/plain": [
       "8245"
      ]
     },
     "execution_count": 91,
     "metadata": {},
     "output_type": "execute_result"
    }
   ],
   "source": [
    "len(y_pred_p)"
   ]
  },
  {
   "cell_type": "code",
   "execution_count": 92,
   "metadata": {},
   "outputs": [],
   "source": [
    "\n",
    "import math\n",
    "def RMSLE(predict, target):\n",
    "    total = 0 \n",
    "    for k in range(len(predict)):\n",
    "        LPred= np.log1p(predict[k] + 1)\n",
    "        LTarg = np.log1p(target[k] + 1)\n",
    "        if not (math.isnan(LPred)) and  not (math.isnan(LTarg)): \n",
    "            total = total + ((LPred-LTarg) **2)\n",
    "        \n",
    "    total = total / len(predict)        \n",
    "    return np.sqrt(total)\n"
   ]
  },
  {
   "cell_type": "code",
   "execution_count": 93,
   "metadata": {},
   "outputs": [
    {
     "name": "stdout",
     "output_type": "stream",
     "text": [
      "[24116.4 32803.6 31273.8 ...   564.8 37196.4 16182.4]\n"
     ]
    }
   ],
   "source": [
    "#Fit KNN Regression Model\n",
    "from sklearn.neighbors import KNeighborsRegressor\n",
    "knn_r = KNeighborsRegressor()\n",
    "knn_r.fit(X_train_f ,y_train_f)\n",
    "\n",
    "\n",
    "#Final prediction using the best model with the optimal hyperparamter setting\n",
    "Y_pred_knn_r = knn_r.predict(X_train_p)\n",
    "print(Y_pred_knn_r)\n",
    "\n",
    "import math\n",
    "def RMSLE(predict, target):\n",
    "    total = 0 \n",
    "    for k in range(len(predict)):\n",
    "        LPred= np.log1p(predict[k] + 1)\n",
    "        LTarg = np.log1p(target[k] + 1)\n",
    "        if not (math.isnan(LPred)) and  not (math.isnan(LTarg)): \n",
    "            total = total + ((LPred-LTarg) **2)\n",
    "        \n",
    "    total = total / len(predict)        \n",
    "    return np.sqrt(total)\n"
   ]
  },
  {
   "cell_type": "code",
   "execution_count": 94,
   "metadata": {},
   "outputs": [
    {
     "name": "stdout",
     "output_type": "stream",
     "text": [
      "[15367.         29166.          8905.25       ...  7160.52173913\n",
      " 37394.07692308 12544.5       ]\n"
     ]
    }
   ],
   "source": [
    "#Fit Decision Tree Regression Model\n",
    "from sklearn.tree import DecisionTreeRegressor\n",
    "Dec_Tree_r = DecisionTreeRegressor()\n",
    "Dec_Tree_r.fit(X_train_f ,y_train_f)\n",
    "\n",
    "#Final prediction using the best model with the optimal hyperparamter setting\n",
    "Y_pred_dt_r = Dec_Tree_r.predict(X_train_p)\n",
    "print(Y_pred_dt_r)\n",
    "\n",
    "import math\n",
    "def RMSLE(predict, target):\n",
    "    total = 0 \n",
    "    for k in range(len(predict)):\n",
    "        LPred= np.log1p(predict[k] + 1)\n",
    "        LTarg = np.log1p(target[k] + 1)\n",
    "        if not (math.isnan(LPred)) and  not (math.isnan(LTarg)): \n",
    "            total = total + ((LPred-LTarg) **2)\n",
    "        \n",
    "    total = total / len(predict)        \n",
    "    return np.sqrt(total)\n"
   ]
  },
  {
   "cell_type": "code",
   "execution_count": 95,
   "metadata": {},
   "outputs": [
    {
     "name": "stdout",
     "output_type": "stream",
     "text": [
      "[15037.17233333 31402.66591176  8804.71704851 ...  7096.21679208\n",
      " 37234.78627115 12069.09471429]\n"
     ]
    }
   ],
   "source": [
    "#Fit Random Forest Reduced model\n",
    "from sklearn.ensemble import RandomForestRegressor\n",
    "RandomForest_r = RandomForestRegressor()\n",
    "RandomForest_r.fit(X_train_f ,y_train_f)\n",
    "\n",
    "#Final prediction using the best model with the optimal hyperparamter setting\n",
    "Y_pred_rf_r = RandomForest_r.predict(X_train_p)\n",
    "print(Y_pred_rf_r)\n",
    "\n",
    "import math\n",
    "def RMSLE(predict, target):\n",
    "    total = 0 \n",
    "    for k in range(len(predict)):\n",
    "        LPred= np.log1p(predict[k] + 1)\n",
    "        LTarg = np.log1p(target[k] + 1)\n",
    "        if not (math.isnan(LPred)) and  not (math.isnan(LTarg)): \n",
    "            total = total + ((LPred-LTarg) **2)\n",
    "        \n",
    "    total = total / len(predict)        \n",
    "    return np.sqrt(total)\n"
   ]
  },
  {
   "cell_type": "code",
   "execution_count": 96,
   "metadata": {},
   "outputs": [
    {
     "name": "stdout",
     "output_type": "stream",
     "text": [
      "[14030.89528256 14030.89528256 14030.89528256 ... 14030.89528256\n",
      " 14030.89528256 14030.89528256]\n"
     ]
    }
   ],
   "source": [
    "#Fit Random Forest model\n",
    "#Manual Tuning of hyperparamter for the Random Forest Regression Model\n",
    "\n",
    "from sklearn.ensemble import RandomForestRegressor\n",
    "RandomForest_r = RandomForestRegressor(n_estimators=80,min_samples_split= 0.5,min_samples_leaf=0.5)\n",
    "RandomForest_r.fit(X_train_f ,y_train_f)\n",
    "\n",
    "#Final prediction using the best model with the optimal hyperparamter setting\n",
    "Y_pred_rtr= RandomForest_r.predict(X_train_p)\n",
    "print(Y_pred_rtr)\n",
    "\n",
    "import math\n",
    "def RMSLE(predict, target):\n",
    "    total = 0 \n",
    "    for k in range(len(predict)):\n",
    "        LPred= np.log1p(predict[k] + 1)\n",
    "        LTarg = np.log1p(target[k] + 1)\n",
    "        if not (math.isnan(LPred)) and  not (math.isnan(LTarg)): \n",
    "            total = total + ((LPred-LTarg) **2)\n",
    "        \n",
    "    total = total / len(predict)        \n",
    "    return np.sqrt(total)\n"
   ]
  },
  {
   "cell_type": "code",
   "execution_count": 97,
   "metadata": {},
   "outputs": [
    {
     "name": "stdout",
     "output_type": "stream",
     "text": [
      "[13106.01693902 13106.01693902 13106.01693902 ... 13106.01693902\n",
      " 15159.52534449 15159.52534449]\n"
     ]
    }
   ],
   "source": [
    "#Manual Tuning of hyperparamter for the Decision Tree Regressor Model\n",
    "\n",
    "from sklearn.tree import DecisionTreeRegressor\n",
    "Dec_Tree_r = DecisionTreeRegressor(splitter='best',max_features='sqrt',min_samples_split= 5,min_samples_leaf=0.31,criterion='friedman_mse')\n",
    "Dec_Tree_r.fit(X_train_f ,y_train_f)\n",
    "\n",
    "#Final prediction using the best model with the optimal hyperparamter setting\n",
    "Y_pred_dt_h= Dec_Tree_r.predict(X_train_p)\n",
    "print(Y_pred_dt_h)\n",
    "\n",
    "import math\n",
    "def RMSLE(predict, target):\n",
    "    total = 0 \n",
    "    for k in range(len(predict)):\n",
    "        LPred= np.log1p(predict[k] + 1)\n",
    "        LTarg = np.log1p(target[k] + 1)\n",
    "        if not (math.isnan(LPred)) and  not (math.isnan(LTarg)): \n",
    "            total = total + ((LPred-LTarg) **2)\n",
    "        \n",
    "    total = total / len(predict)        \n",
    "    return np.sqrt(total)\n"
   ]
  },
  {
   "cell_type": "code",
   "execution_count": 98,
   "metadata": {},
   "outputs": [
    {
     "name": "stdout",
     "output_type": "stream",
     "text": [
      "RMSLE of Linear regression Model:                                        1.6842529221669926\n",
      "RMSLE of KNeighborsRegressor Model:                                      1.9258318675263382\n",
      "RMSLE of DecisionTreeRegressor Model:                                    1.9524957716966465\n",
      "RMSLE of RandomForestRegressor Model:                                    1.8627245117782214\n",
      "RMSLE of RandomForestRegressor Model with manual hyper parameter tuning: 1.6743315292988783\n",
      "RMSLE of DecisionTreeRegressor Model with manual hyper parameter tuning: 1.6744644454970339\n"
     ]
    }
   ],
   "source": [
    "print ('RMSLE of Linear regression Model:                                        ' + str(RMSLE(y_pred_p,y_train_f)) )\n",
    "print ('RMSLE of KNeighborsRegressor Model:                                      ' + str(RMSLE(Y_pred_knn_r,y_train_f)) )\n",
    "print ('RMSLE of DecisionTreeRegressor Model:                                    ' + str(RMSLE(Y_pred_dt_r,y_train_f)) )\n",
    "print ('RMSLE of RandomForestRegressor Model:                                    ' + str(RMSLE(Y_pred_rf_r,y_train_f)) )\n",
    "print ('RMSLE of RandomForestRegressor Model with manual hyper parameter tuning: ' + str(RMSLE(Y_pred_rtr,y_train_f)) )\n",
    "print ('RMSLE of DecisionTreeRegressor Model with manual hyper parameter tuning: ' + str(RMSLE(Y_pred_dt_h,y_train_f)) )"
   ]
  },
  {
   "cell_type": "code",
   "execution_count": null,
   "metadata": {},
   "outputs": [],
   "source": []
  },
  {
   "cell_type": "code",
   "execution_count": null,
   "metadata": {},
   "outputs": [],
   "source": []
  },
  {
   "cell_type": "code",
   "execution_count": null,
   "metadata": {},
   "outputs": [],
   "source": []
  },
  {
   "cell_type": "code",
   "execution_count": 104,
   "metadata": {},
   "outputs": [],
   "source": [
    "#Add prediction to test data\n",
    "test_pre_data1=df_test\n",
    "test_pre_data1['Price']=Y_pred_rtr\n",
    "#test_pre_data1[80:90]"
   ]
  },
  {
   "cell_type": "code",
   "execution_count": 105,
   "metadata": {},
   "outputs": [],
   "source": [
    "predict_car_price = pd.DataFrame({'ID':test['ID'],'Price':y_pred_p})\n",
    "#predict_car_price.head()"
   ]
  },
  {
   "cell_type": "code",
   "execution_count": 106,
   "metadata": {},
   "outputs": [],
   "source": [
    "predict_car_price = pd.DataFrame({'Price':y_pred_p})\n",
    "#predict_car_price.head()"
   ]
  },
  {
   "cell_type": "code",
   "execution_count": 107,
   "metadata": {},
   "outputs": [],
   "source": [
    "predict_car_price.to_csv('submission_file.csv',index=False)"
   ]
  },
  {
   "cell_type": "code",
   "execution_count": 103,
   "metadata": {},
   "outputs": [],
   "source": [
    "#predict_car_price"
   ]
  },
  {
   "cell_type": "code",
   "execution_count": null,
   "metadata": {},
   "outputs": [],
   "source": []
  }
 ],
 "metadata": {
  "kernelspec": {
   "display_name": "Python 3",
   "language": "python",
   "name": "python3"
  },
  "language_info": {
   "codemirror_mode": {
    "name": "ipython",
    "version": 3
   },
   "file_extension": ".py",
   "mimetype": "text/x-python",
   "name": "python",
   "nbconvert_exporter": "python",
   "pygments_lexer": "ipython3",
   "version": "3.8.5"
  }
 },
 "nbformat": 4,
 "nbformat_minor": 4
}
